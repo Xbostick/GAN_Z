{
 "cells": [
  {
   "cell_type": "markdown",
   "metadata": {},
   "source": [
    "# Import"
   ]
  },
  {
   "cell_type": "code",
   "execution_count": 1,
   "metadata": {},
   "outputs": [],
   "source": [
    "import numpy as np\n",
    "import pandas as pd\n",
    "from Bio import SeqIO\n",
    "\n",
    "import torchvision.transforms as transforms\n",
    "\n",
    "from torch.utils.data import DataLoader,Dataset\n",
    "from torchvision import datasets\n",
    "from torch.autograd import Variable \n",
    "\n",
    "import torch.nn as nn\n",
    "import torch.nn.functional as F\n",
    "import torch\n",
    "from torch.autograd import Variable\n",
    "import torch.autograd as autograd\n",
    "\n",
    "from pathlib import Path\n",
    "import wandb\n",
    "\n",
    "import time\n",
    "_wandb = True"
   ]
  },
  {
   "cell_type": "markdown",
   "metadata": {},
   "source": [
    "Сделать ваасермановский лосс\n",
    "Разобраться с dimm - что ето?"
   ]
  },
  {
   "cell_type": "code",
   "execution_count": 121,
   "metadata": {},
   "outputs": [
    {
     "data": {
      "text/html": [
       "wandb version 0.15.9 is available!  To upgrade, please run:\n",
       " $ pip install wandb --upgrade"
      ],
      "text/plain": [
       "<IPython.core.display.HTML object>"
      ]
     },
     "metadata": {},
     "output_type": "display_data"
    },
    {
     "data": {
      "text/html": [
       "Tracking run with wandb version 0.15.8"
      ],
      "text/plain": [
       "<IPython.core.display.HTML object>"
      ]
     },
     "metadata": {},
     "output_type": "display_data"
    },
    {
     "data": {
      "text/html": [
       "Run data is saved locally in <code>c:\\work\\GAN_Z\\wandb\\run-20230902_164802-tlqkgdh7</code>"
      ],
      "text/plain": [
       "<IPython.core.display.HTML object>"
      ]
     },
     "metadata": {},
     "output_type": "display_data"
    },
    {
     "data": {
      "text/html": [
       "Syncing run <strong><a href='https://wandb.ai/xbostick/GAN-Z/runs/tlqkgdh7' target=\"_blank\">happy-terrain-32</a></strong> to <a href='https://wandb.ai/xbostick/GAN-Z' target=\"_blank\">Weights & Biases</a> (<a href='https://wandb.me/run' target=\"_blank\">docs</a>)<br/>"
      ],
      "text/plain": [
       "<IPython.core.display.HTML object>"
      ]
     },
     "metadata": {},
     "output_type": "display_data"
    },
    {
     "data": {
      "text/html": [
       " View project at <a href='https://wandb.ai/xbostick/GAN-Z' target=\"_blank\">https://wandb.ai/xbostick/GAN-Z</a>"
      ],
      "text/plain": [
       "<IPython.core.display.HTML object>"
      ]
     },
     "metadata": {},
     "output_type": "display_data"
    },
    {
     "data": {
      "text/html": [
       " View run at <a href='https://wandb.ai/xbostick/GAN-Z/runs/tlqkgdh7' target=\"_blank\">https://wandb.ai/xbostick/GAN-Z/runs/tlqkgdh7</a>"
      ],
      "text/plain": [
       "<IPython.core.display.HTML object>"
      ]
     },
     "metadata": {},
     "output_type": "display_data"
    }
   ],
   "source": [
    "if _wandb:\n",
    "    wandb.login()\n",
    "    wandb.init(\n",
    "        # set the wandb project where this run will be logged\n",
    "        project=\"GAN-Z\",\n",
    "        \n",
    "        # track hyperparameters and run metadata\n",
    "        config={\n",
    "        \"learning_rate\": 0.02,\n",
    "        \"architecture\": \"GAN\",\n",
    "        \"dataset\": \"chr1\",\n",
    "        \"epochs\": 300,\n",
    "        }\n",
    "\n",
    "    )\n"
   ]
  },
  {
   "cell_type": "code",
   "execution_count": 2,
   "metadata": {},
   "outputs": [],
   "source": [
    "cuda = True if torch.cuda.is_available() else False # GPU Setting"
   ]
  },
  {
   "cell_type": "markdown",
   "metadata": {},
   "source": [
    "# Setting parametrs"
   ]
  },
  {
   "cell_type": "code",
   "execution_count": 3,
   "metadata": {},
   "outputs": [],
   "source": [
    "generic = False # Generate generic data on the fly (ignores data_loc and data_start args)\n",
    "data_loc = Path(\"./data/\") # Data location\n",
    "epoch = 300\n",
    "disc_iters = 5 # Number of iterations to train discriminator for at each epoch\n",
    "latent_dim = 5 # Size of latent space\n",
    "gen_dim = 100 # Generator dimension parameter\n",
    "disc_dim = 100 # Discriminator dimension parameter\n",
    "gen_layers = 5\n",
    "disc_layer = 5\n",
    "batch_size = 100\n",
    "max_seq_len = 1000"
   ]
  },
  {
   "cell_type": "markdown",
   "metadata": {},
   "source": [
    " gen_data = lib.models.resnet_generator(latent_vars, args.gen_dim, args.max_seq_len, data_enc_dim, args.annotate)\n",
    "  data_enc_dim = 4"
   ]
  },
  {
   "cell_type": "markdown",
   "metadata": {},
   "source": [
    "# Preparing DATASET"
   ]
  },
  {
   "cell_type": "code",
   "execution_count": 4,
   "metadata": {},
   "outputs": [],
   "source": [
    "def ohe_DNA(part):\n",
    "    seq = []\n",
    "    for i in part:\n",
    "        match i:\n",
    "                case 0:\n",
    "                    seq.append([1,0,0,0,0])\n",
    "                case 1:\n",
    "                    seq.append([0,1,0,0,0])\n",
    "                case 2:\n",
    "                    seq.append([0,0,1,0,0])\n",
    "                case 3:\n",
    "                    seq.append([0,0,0,1,0])\n",
    "                case 4:\n",
    "                    seq.append([0,0,0,0,1])\n",
    "    return seq"
   ]
  },
  {
   "cell_type": "code",
   "execution_count": 56,
   "metadata": {},
   "outputs": [],
   "source": [
    "def reverse_ohe_DNA(part):\n",
    "    seq = []\n",
    "    for i in part:\n",
    "        match i:\n",
    "                case [1,0,0,0,0]:\n",
    "                    seq.append(0)\n",
    "                case [0,1,0,0,0]:\n",
    "                    seq.append(1)\n",
    "                case [0,0,1,0,0]:\n",
    "                    seq.append(2)\n",
    "                case [0,0,0,1,0]:\n",
    "                    seq.append(3)\n",
    "                case [0,0,0,0,1]:\n",
    "                    seq.append(4)\n",
    "    return seq"
   ]
  },
  {
   "cell_type": "code",
   "execution_count": 61,
   "metadata": {},
   "outputs": [
    {
     "data": {
      "text/plain": [
       "[4,\n",
       " 4,\n",
       " 4,\n",
       " 4,\n",
       " 4,\n",
       " 4,\n",
       " 4,\n",
       " 4,\n",
       " 4,\n",
       " 4,\n",
       " 4,\n",
       " 4,\n",
       " 4,\n",
       " 4,\n",
       " 4,\n",
       " 4,\n",
       " 4,\n",
       " 4,\n",
       " 4,\n",
       " 4,\n",
       " 4,\n",
       " 4,\n",
       " 4,\n",
       " 4,\n",
       " 4,\n",
       " 4,\n",
       " 4,\n",
       " 4,\n",
       " 4,\n",
       " 4,\n",
       " 4,\n",
       " 4,\n",
       " 4,\n",
       " 4,\n",
       " 4,\n",
       " 4,\n",
       " 4,\n",
       " 4,\n",
       " 4,\n",
       " 4,\n",
       " 4,\n",
       " 4,\n",
       " 4,\n",
       " 4,\n",
       " 4,\n",
       " 4,\n",
       " 4,\n",
       " 4,\n",
       " 4,\n",
       " 4,\n",
       " 4,\n",
       " 4,\n",
       " 4,\n",
       " 4,\n",
       " 4,\n",
       " 4,\n",
       " 4,\n",
       " 4,\n",
       " 4,\n",
       " 4,\n",
       " 4,\n",
       " 4,\n",
       " 4,\n",
       " 4,\n",
       " 4,\n",
       " 4,\n",
       " 4,\n",
       " 4,\n",
       " 4,\n",
       " 4,\n",
       " 4,\n",
       " 4,\n",
       " 4,\n",
       " 4,\n",
       " 4,\n",
       " 4,\n",
       " 4,\n",
       " 4,\n",
       " 4,\n",
       " 4,\n",
       " 4,\n",
       " 4,\n",
       " 4,\n",
       " 4,\n",
       " 4,\n",
       " 4,\n",
       " 4,\n",
       " 4,\n",
       " 4,\n",
       " 4,\n",
       " 4,\n",
       " 4,\n",
       " 4,\n",
       " 4,\n",
       " 4,\n",
       " 4,\n",
       " 4,\n",
       " 4,\n",
       " 4,\n",
       " 4,\n",
       " 4,\n",
       " 4,\n",
       " 4,\n",
       " 4,\n",
       " 4,\n",
       " 4,\n",
       " 4,\n",
       " 4,\n",
       " 4,\n",
       " 4,\n",
       " 4,\n",
       " 4,\n",
       " 4,\n",
       " 4,\n",
       " 4,\n",
       " 4,\n",
       " 4,\n",
       " 4,\n",
       " 4,\n",
       " 4,\n",
       " 4,\n",
       " 4,\n",
       " 4,\n",
       " 4,\n",
       " 4,\n",
       " 4,\n",
       " 4,\n",
       " 4,\n",
       " 4,\n",
       " 4,\n",
       " 4,\n",
       " 4,\n",
       " 4,\n",
       " 4,\n",
       " 4,\n",
       " 4,\n",
       " 4,\n",
       " 4,\n",
       " 4,\n",
       " 4,\n",
       " 4,\n",
       " 4,\n",
       " 4,\n",
       " 4,\n",
       " 4,\n",
       " 4,\n",
       " 4,\n",
       " 4,\n",
       " 4,\n",
       " 4,\n",
       " 4,\n",
       " 4,\n",
       " 4,\n",
       " 4,\n",
       " 4,\n",
       " 4,\n",
       " 4,\n",
       " 4,\n",
       " 4,\n",
       " 4,\n",
       " 4,\n",
       " 4,\n",
       " 4,\n",
       " 4,\n",
       " 4,\n",
       " 4,\n",
       " 4,\n",
       " 4,\n",
       " 4,\n",
       " 4,\n",
       " 4,\n",
       " 4,\n",
       " 4,\n",
       " 4,\n",
       " 4,\n",
       " 4,\n",
       " 4,\n",
       " 4,\n",
       " 4,\n",
       " 4,\n",
       " 4,\n",
       " 4,\n",
       " 4,\n",
       " 4,\n",
       " 4,\n",
       " 4,\n",
       " 4,\n",
       " 4,\n",
       " 4,\n",
       " 4,\n",
       " 4,\n",
       " 4,\n",
       " 4,\n",
       " 4,\n",
       " 4,\n",
       " 4,\n",
       " 4,\n",
       " 4,\n",
       " 4,\n",
       " 4,\n",
       " 4,\n",
       " 4,\n",
       " 4,\n",
       " 4,\n",
       " 4,\n",
       " 4,\n",
       " 4,\n",
       " 4,\n",
       " 4,\n",
       " 4,\n",
       " 4,\n",
       " 4,\n",
       " 4,\n",
       " 4,\n",
       " 4,\n",
       " 4,\n",
       " 4,\n",
       " 4,\n",
       " 4,\n",
       " 4,\n",
       " 4,\n",
       " 4,\n",
       " 4,\n",
       " 4,\n",
       " 4,\n",
       " 4,\n",
       " 4,\n",
       " 4,\n",
       " 4,\n",
       " 4,\n",
       " 4,\n",
       " 4,\n",
       " 4,\n",
       " 4,\n",
       " 4,\n",
       " 4,\n",
       " 4,\n",
       " 4,\n",
       " 4,\n",
       " 4,\n",
       " 4,\n",
       " 4,\n",
       " 4,\n",
       " 4,\n",
       " 4,\n",
       " 4,\n",
       " 4,\n",
       " 4,\n",
       " 4,\n",
       " 4,\n",
       " 4,\n",
       " 4,\n",
       " 4,\n",
       " 4,\n",
       " 4,\n",
       " 4,\n",
       " 4,\n",
       " 4,\n",
       " 4,\n",
       " 4,\n",
       " 4,\n",
       " 4,\n",
       " 4,\n",
       " 4,\n",
       " 4,\n",
       " 4,\n",
       " 4,\n",
       " 4,\n",
       " 4,\n",
       " 4,\n",
       " 4,\n",
       " 4,\n",
       " 4,\n",
       " 4,\n",
       " 4,\n",
       " 4,\n",
       " 4,\n",
       " 4,\n",
       " 4,\n",
       " 4,\n",
       " 4,\n",
       " 4,\n",
       " 4,\n",
       " 4,\n",
       " 4,\n",
       " 4,\n",
       " 4,\n",
       " 4,\n",
       " 4,\n",
       " 4,\n",
       " 4,\n",
       " 4,\n",
       " 4,\n",
       " 4,\n",
       " 4,\n",
       " 4,\n",
       " 4,\n",
       " 4,\n",
       " 4,\n",
       " 4,\n",
       " 4,\n",
       " 4,\n",
       " 4,\n",
       " 4,\n",
       " 4,\n",
       " 4,\n",
       " 4,\n",
       " 4,\n",
       " 4,\n",
       " 4,\n",
       " 4,\n",
       " 4,\n",
       " 4,\n",
       " 4,\n",
       " 4,\n",
       " 4,\n",
       " 4,\n",
       " 4,\n",
       " 4,\n",
       " 4,\n",
       " 4,\n",
       " 4,\n",
       " 4,\n",
       " 4,\n",
       " 4,\n",
       " 4,\n",
       " 4,\n",
       " 4,\n",
       " 4,\n",
       " 4,\n",
       " 4,\n",
       " 4,\n",
       " 4,\n",
       " 4,\n",
       " 4,\n",
       " 4,\n",
       " 4,\n",
       " 4,\n",
       " 4,\n",
       " 4,\n",
       " 4,\n",
       " 4,\n",
       " 4,\n",
       " 4,\n",
       " 4,\n",
       " 4,\n",
       " 4,\n",
       " 4,\n",
       " 4,\n",
       " 4,\n",
       " 4,\n",
       " 4,\n",
       " 4,\n",
       " 4,\n",
       " 4,\n",
       " 4,\n",
       " 4,\n",
       " 4,\n",
       " 4,\n",
       " 4,\n",
       " 4,\n",
       " 4,\n",
       " 4,\n",
       " 4,\n",
       " 4,\n",
       " 4,\n",
       " 4,\n",
       " 4,\n",
       " 4,\n",
       " 4,\n",
       " 4,\n",
       " 4,\n",
       " 4,\n",
       " 4,\n",
       " 4,\n",
       " 4,\n",
       " 4,\n",
       " 4,\n",
       " 4,\n",
       " 4,\n",
       " 4,\n",
       " 4,\n",
       " 4,\n",
       " 4,\n",
       " 4,\n",
       " 4,\n",
       " 4,\n",
       " 4,\n",
       " 4,\n",
       " 4,\n",
       " 4,\n",
       " 4,\n",
       " 4,\n",
       " 4,\n",
       " 4,\n",
       " 4,\n",
       " 4,\n",
       " 4,\n",
       " 4,\n",
       " 4,\n",
       " 4,\n",
       " 4,\n",
       " 4,\n",
       " 4,\n",
       " 4,\n",
       " 4,\n",
       " 4,\n",
       " 4,\n",
       " 4,\n",
       " 4,\n",
       " 4,\n",
       " 4,\n",
       " 4,\n",
       " 4,\n",
       " 4,\n",
       " 4,\n",
       " 4,\n",
       " 4,\n",
       " 4,\n",
       " 4,\n",
       " 4,\n",
       " 4,\n",
       " 4,\n",
       " 4,\n",
       " 4,\n",
       " 4,\n",
       " 4,\n",
       " 4,\n",
       " 4,\n",
       " 4,\n",
       " 4,\n",
       " 4,\n",
       " 4,\n",
       " 4,\n",
       " 4,\n",
       " 4,\n",
       " 4,\n",
       " 4,\n",
       " 4,\n",
       " 4,\n",
       " 4,\n",
       " 4,\n",
       " 4,\n",
       " 4,\n",
       " 4,\n",
       " 4,\n",
       " 4,\n",
       " 4,\n",
       " 4,\n",
       " 4,\n",
       " 4,\n",
       " 4,\n",
       " 4,\n",
       " 4,\n",
       " 4,\n",
       " 4,\n",
       " 4,\n",
       " 4,\n",
       " 4,\n",
       " 4,\n",
       " 4,\n",
       " 4,\n",
       " 4,\n",
       " 4,\n",
       " 4,\n",
       " 4,\n",
       " 4,\n",
       " 4,\n",
       " 4,\n",
       " 4,\n",
       " 4,\n",
       " 4,\n",
       " 4,\n",
       " 4,\n",
       " 4,\n",
       " 4,\n",
       " 4,\n",
       " 4,\n",
       " 4,\n",
       " 4,\n",
       " 4,\n",
       " 4,\n",
       " 4,\n",
       " 4,\n",
       " 4,\n",
       " 4,\n",
       " 4,\n",
       " 4,\n",
       " 4,\n",
       " 4,\n",
       " 4,\n",
       " 4,\n",
       " 4,\n",
       " 4,\n",
       " 4,\n",
       " 4,\n",
       " 4,\n",
       " 4,\n",
       " 4,\n",
       " 4,\n",
       " 4,\n",
       " 4,\n",
       " 4,\n",
       " 4,\n",
       " 4,\n",
       " 4,\n",
       " 4,\n",
       " 4,\n",
       " 4,\n",
       " 4,\n",
       " 4,\n",
       " 4,\n",
       " 4,\n",
       " 4,\n",
       " 4,\n",
       " 4,\n",
       " 4,\n",
       " 4,\n",
       " 4,\n",
       " 4,\n",
       " 4,\n",
       " 4,\n",
       " 4,\n",
       " 4,\n",
       " 4,\n",
       " 4,\n",
       " 4,\n",
       " 4,\n",
       " 4,\n",
       " 4,\n",
       " 4,\n",
       " 4,\n",
       " 4,\n",
       " 4,\n",
       " 4,\n",
       " 4,\n",
       " 4,\n",
       " 4,\n",
       " 4,\n",
       " 4,\n",
       " 4,\n",
       " 4,\n",
       " 4,\n",
       " 4,\n",
       " 4,\n",
       " 4,\n",
       " 4,\n",
       " 4,\n",
       " 4,\n",
       " 4,\n",
       " 4,\n",
       " 4,\n",
       " 4,\n",
       " 4,\n",
       " 4,\n",
       " 4,\n",
       " 4,\n",
       " 4,\n",
       " 4,\n",
       " 4,\n",
       " 4,\n",
       " 4,\n",
       " 4,\n",
       " 4,\n",
       " 4,\n",
       " 4,\n",
       " 4,\n",
       " 4,\n",
       " 4,\n",
       " 4,\n",
       " 4,\n",
       " 4,\n",
       " 4,\n",
       " 4,\n",
       " 4,\n",
       " 4,\n",
       " 4,\n",
       " 4,\n",
       " 4,\n",
       " 4,\n",
       " 4,\n",
       " 4,\n",
       " 4,\n",
       " 4,\n",
       " 4,\n",
       " 4,\n",
       " 4,\n",
       " 4,\n",
       " 4,\n",
       " 4,\n",
       " 4,\n",
       " 4,\n",
       " 4,\n",
       " 4,\n",
       " 4,\n",
       " 4,\n",
       " 4,\n",
       " 4,\n",
       " 4,\n",
       " 4,\n",
       " 4,\n",
       " 4,\n",
       " 4,\n",
       " 4,\n",
       " 4,\n",
       " 4,\n",
       " 4,\n",
       " 4,\n",
       " 4,\n",
       " 4,\n",
       " 4,\n",
       " 4,\n",
       " 4,\n",
       " 4,\n",
       " 4,\n",
       " 4,\n",
       " 4,\n",
       " 4,\n",
       " 4,\n",
       " 4,\n",
       " 4,\n",
       " 4,\n",
       " 4,\n",
       " 4,\n",
       " 4,\n",
       " 4,\n",
       " 4,\n",
       " 4,\n",
       " 4,\n",
       " 4,\n",
       " 4,\n",
       " 4,\n",
       " 4,\n",
       " 4,\n",
       " 4,\n",
       " 4,\n",
       " 4,\n",
       " 4,\n",
       " 4,\n",
       " 4,\n",
       " 4,\n",
       " 4,\n",
       " 4,\n",
       " 4,\n",
       " 4,\n",
       " 4,\n",
       " 4,\n",
       " 4,\n",
       " 4,\n",
       " 4,\n",
       " 4,\n",
       " 4,\n",
       " 4,\n",
       " 4,\n",
       " 4,\n",
       " 4,\n",
       " 4,\n",
       " 4,\n",
       " 4,\n",
       " 4,\n",
       " 4,\n",
       " 4,\n",
       " 4,\n",
       " 4,\n",
       " 4,\n",
       " 4,\n",
       " 4,\n",
       " 4,\n",
       " 4,\n",
       " 4,\n",
       " 4,\n",
       " 4,\n",
       " 4,\n",
       " 4,\n",
       " 4,\n",
       " 4,\n",
       " 4,\n",
       " 4,\n",
       " 4,\n",
       " 4,\n",
       " 4,\n",
       " 4,\n",
       " 4,\n",
       " 4,\n",
       " 4,\n",
       " 4,\n",
       " 4,\n",
       " 4,\n",
       " 4,\n",
       " 4,\n",
       " 4,\n",
       " 4,\n",
       " 4,\n",
       " 4,\n",
       " 4,\n",
       " 4,\n",
       " 4,\n",
       " 4,\n",
       " 4,\n",
       " 4,\n",
       " 4,\n",
       " 4,\n",
       " 4,\n",
       " 4,\n",
       " 4,\n",
       " 4,\n",
       " 4,\n",
       " 4,\n",
       " 4,\n",
       " 4,\n",
       " 4,\n",
       " 4,\n",
       " 4,\n",
       " 4,\n",
       " 4,\n",
       " 4,\n",
       " 4,\n",
       " 4,\n",
       " 4,\n",
       " 4,\n",
       " 4,\n",
       " 4,\n",
       " 4,\n",
       " 4,\n",
       " 4,\n",
       " 4,\n",
       " 4,\n",
       " 4,\n",
       " 4,\n",
       " 4,\n",
       " 4,\n",
       " 4,\n",
       " 4,\n",
       " 4,\n",
       " 4,\n",
       " 4,\n",
       " 4,\n",
       " 4,\n",
       " 4,\n",
       " 4,\n",
       " 4,\n",
       " 4,\n",
       " 4,\n",
       " 4,\n",
       " 4,\n",
       " 4,\n",
       " 4,\n",
       " 4,\n",
       " 4,\n",
       " 4,\n",
       " 4,\n",
       " 4,\n",
       " 4,\n",
       " 4,\n",
       " 4,\n",
       " 4,\n",
       " 4,\n",
       " 4,\n",
       " 4,\n",
       " 4,\n",
       " 4,\n",
       " 4,\n",
       " 4,\n",
       " 4,\n",
       " 4,\n",
       " 4,\n",
       " 4,\n",
       " 4,\n",
       " 4,\n",
       " 4,\n",
       " 4,\n",
       " 4,\n",
       " 4,\n",
       " 4,\n",
       " 4,\n",
       " 4,\n",
       " 4,\n",
       " 4,\n",
       " 4,\n",
       " 4,\n",
       " 4,\n",
       " 4,\n",
       " 4,\n",
       " 4,\n",
       " 4,\n",
       " 4,\n",
       " 4,\n",
       " 4,\n",
       " 4,\n",
       " 4,\n",
       " 4,\n",
       " 4,\n",
       " 4,\n",
       " 4,\n",
       " 4,\n",
       " 4,\n",
       " 4,\n",
       " 4,\n",
       " 4,\n",
       " 4,\n",
       " 4,\n",
       " 4,\n",
       " 4,\n",
       " 4,\n",
       " 4,\n",
       " 4,\n",
       " 4,\n",
       " 4,\n",
       " 4,\n",
       " 4,\n",
       " 4,\n",
       " 4,\n",
       " 4,\n",
       " 4,\n",
       " 4,\n",
       " 4,\n",
       " 4,\n",
       " 4,\n",
       " 4,\n",
       " 4,\n",
       " 4,\n",
       " 4,\n",
       " 4,\n",
       " 4,\n",
       " 4,\n",
       " 4,\n",
       " 4,\n",
       " 4,\n",
       " 4,\n",
       " 4,\n",
       " 4,\n",
       " 4,\n",
       " 4,\n",
       " 4,\n",
       " 4,\n",
       " 4,\n",
       " 4,\n",
       " 4,\n",
       " 4,\n",
       " 4,\n",
       " 4,\n",
       " 4,\n",
       " 4,\n",
       " 4,\n",
       " 4,\n",
       " 4,\n",
       " 4,\n",
       " 4,\n",
       " 4,\n",
       " 4,\n",
       " 4,\n",
       " 4,\n",
       " 4,\n",
       " 4,\n",
       " 4,\n",
       " 4,\n",
       " 4,\n",
       " 4,\n",
       " 4,\n",
       " 4,\n",
       " 4,\n",
       " 4,\n",
       " 4,\n",
       " 4,\n",
       " 4,\n",
       " 4,\n",
       " 4,\n",
       " 4,\n",
       " 4,\n",
       " 4,\n",
       " 4,\n",
       " 4,\n",
       " 4,\n",
       " 4,\n",
       " 4,\n",
       " 4,\n",
       " 4,\n",
       " 4,\n",
       " 4,\n",
       " 4,\n",
       " 4,\n",
       " 4,\n",
       " 4,\n",
       " 4,\n",
       " 4,\n",
       " 4,\n",
       " 4,\n",
       " 4,\n",
       " 4,\n",
       " 4,\n",
       " 4,\n",
       " 4,\n",
       " 4,\n",
       " 4,\n",
       " 4,\n",
       " 4,\n",
       " 4,\n",
       " 4,\n",
       " 4,\n",
       " 4,\n",
       " 4,\n",
       " 4,\n",
       " 4,\n",
       " 4,\n",
       " 4,\n",
       " 4,\n",
       " 4,\n",
       " 4,\n",
       " 4,\n",
       " 4,\n",
       " 4,\n",
       " 4,\n",
       " 4,\n",
       " 4,\n",
       " 4,\n",
       " 4,\n",
       " 4,\n",
       " 4,\n",
       " 4,\n",
       " 4,\n",
       " 4,\n",
       " 4,\n",
       " 4,\n",
       " 4,\n",
       " 4,\n",
       " 4,\n",
       " 4,\n",
       " 4,\n",
       " 4,\n",
       " 4,\n",
       " 4,\n",
       " 4,\n",
       " 4,\n",
       " 4,\n",
       " 4,\n",
       " 4,\n",
       " 4,\n",
       " 4,\n",
       " 4,\n",
       " 4,\n",
       " 4,\n",
       " 4,\n",
       " 4,\n",
       " 4,\n",
       " 4,\n",
       " 4,\n",
       " 4,\n",
       " 4,\n",
       " 4,\n",
       " 4,\n",
       " 4,\n",
       " 4,\n",
       " 4,\n",
       " 4,\n",
       " 4,\n",
       " 4,\n",
       " 4,\n",
       " 4,\n",
       " 4,\n",
       " 4,\n",
       " 4,\n",
       " 4,\n",
       " 4,\n",
       " 4,\n",
       " 4,\n",
       " 4,\n",
       " 4,\n",
       " 4,\n",
       " 4,\n",
       " 4,\n",
       " 4,\n",
       " 4,\n",
       " 4,\n",
       " 4,\n",
       " 4,\n",
       " 4,\n",
       " 4,\n",
       " 4,\n",
       " 4,\n",
       " 4,\n",
       " 4,\n",
       " 4,\n",
       " 4,\n",
       " 4,\n",
       " 4,\n",
       " 4,\n",
       " 4,\n",
       " 4,\n",
       " 4,\n",
       " 4,\n",
       " 4,\n",
       " 4,\n",
       " 4,\n",
       " 4,\n",
       " 4,\n",
       " 4,\n",
       " 4,\n",
       " 4,\n",
       " 4,\n",
       " 4]"
      ]
     },
     "execution_count": 61,
     "metadata": {},
     "output_type": "execute_result"
    }
   ],
   "source": [
    "reverse_ohe_DNA(GenData[0].tolist())"
   ]
  },
  {
   "cell_type": "code",
   "execution_count": 51,
   "metadata": {},
   "outputs": [
    {
     "name": "stdout",
     "output_type": "stream",
     "text": [
      "tensor([0., 0., 0., 0., 1.])\n"
     ]
    }
   ],
   "source": [
    "o = reverse_ohe_DNA(GenData[0])"
   ]
  },
  {
   "cell_type": "code",
   "execution_count": 55,
   "metadata": {},
   "outputs": [
    {
     "data": {
      "text/plain": [
       "array([False,  True,  True,  True,  True])"
      ]
     },
     "execution_count": 55,
     "metadata": {},
     "output_type": "execute_result"
    }
   ],
   "source": [
    "o.numpy() == [1,0,0,0,1]"
   ]
  },
  {
   "cell_type": "code",
   "execution_count": 42,
   "metadata": {},
   "outputs": [
    {
     "data": {
      "text/plain": [
       "tensor([[0., 0., 0., 0., 1.],\n",
       "        [0., 0., 0., 0., 1.],\n",
       "        [0., 0., 0., 0., 1.],\n",
       "        ...,\n",
       "        [0., 0., 0., 0., 1.],\n",
       "        [0., 0., 0., 0., 1.],\n",
       "        [0., 0., 0., 0., 1.]])"
      ]
     },
     "execution_count": 42,
     "metadata": {},
     "output_type": "execute_result"
    }
   ],
   "source": [
    "GenData[0]"
   ]
  },
  {
   "cell_type": "code",
   "execution_count": 17,
   "metadata": {},
   "outputs": [
    {
     "name": "stderr",
     "output_type": "stream",
     "text": [
      "C:\\Temp\\ipykernel_13088\\752960707.py:58: UserWarning: Implicit dimension choice for softmax has been deprecated. Change the call to include dim=X as an argument.\n",
      "  output = self.softmax(output)\n"
     ]
    }
   ],
   "source": [
    "noise = Variable(torch.randn((1,1000))).cuda()\n",
    "out = generator(noise)"
   ]
  },
  {
   "cell_type": "code",
   "execution_count": 23,
   "metadata": {},
   "outputs": [
    {
     "name": "stderr",
     "output_type": "stream",
     "text": [
      "C:\\Temp\\ipykernel_13088\\752960707.py:58: UserWarning: Implicit dimension choice for softmax has been deprecated. Change the call to include dim=X as an argument.\n",
      "  output = self.softmax(output)\n"
     ]
    },
    {
     "data": {
      "text/plain": [
       "array([3, 2, 0, 3, 2, 0, 0, 3, 2, 1, 0, 3, 3, 1, 0, 2, 3, 3, 1, 0, 0, 3,\n",
       "       3, 0, 0, 3, 2, 0, 3, 2, 1, 3, 2, 1, 3, 2, 0, 3, 2, 1, 0, 0, 3, 2,\n",
       "       1, 0, 2, 0, 1, 0, 1, 3, 2, 0, 3, 3, 0, 0, 3, 1, 1, 0, 3, 2, 1, 3,\n",
       "       2, 0, 3, 2, 1, 0, 2, 3, 3, 1, 0, 0, 3, 2, 1, 0, 2, 3, 3, 2, 0, 3,\n",
       "       2, 1, 0, 3, 1, 1, 0, 2, 1, 3, 1, 0, 0, 2, 3, 3, 1, 0, 0, 3, 1, 1,\n",
       "       0, 0, 3, 2, 0, 0, 3, 1, 1, 0, 2, 0, 1, 0, 0, 3, 2, 1, 0, 0, 3, 2,\n",
       "       1, 3, 2, 1, 3, 1, 3, 1, 0, 3, 3, 1, 0, 3, 2, 1, 3, 1, 0, 2, 1, 3,\n",
       "       2, 0, 3, 2, 1, 0, 2, 3, 1, 1, 0, 0, 3, 1, 0, 0, 3, 2, 0, 3, 2, 1,\n",
       "       3, 2, 1, 0, 0, 3, 2, 1, 0, 3, 3, 2, 0, 3, 2, 0, 0, 3, 2, 1, 3, 2,\n",
       "       1, 0, 3, 3, 2, 0, 3, 3, 1, 0, 0, 3, 3, 1, 0, 3, 2, 1, 0, 2, 3, 3,\n",
       "       1, 1, 0, 2, 3, 2, 0, 3, 2, 1, 3, 2, 0, 3, 2, 1, 3, 2, 0, 3, 2, 0,\n",
       "       3, 2, 1, 0, 2, 3, 2, 0, 3, 3, 1, 0, 0, 3, 2, 0, 3, 2, 1, 0, 0, 3,\n",
       "       2, 0, 3, 2, 1, 3, 2, 0, 3, 2, 1, 3, 1, 0, 0, 3, 2, 0, 0, 3, 2, 1,\n",
       "       0, 3, 3, 1, 0, 3, 2, 1, 3, 2, 0, 3, 3, 1, 1, 0, 3, 3, 2, 0, 3, 2,\n",
       "       1, 0, 2, 3, 2, 0, 3, 2, 0, 3, 2, 1, 0, 0, 3, 2, 0, 0, 2, 1, 1, 0,\n",
       "       0, 3, 2, 1, 0, 2, 3, 2, 0, 3, 2, 1, 3, 2, 0, 3, 2, 1, 3, 3, 2, 0,\n",
       "       3, 2, 1, 3, 2, 0, 3, 2, 1, 3, 2, 3, 3, 1, 0, 0, 3, 2, 0, 3, 2, 1,\n",
       "       3, 2, 1, 0, 3, 2, 1, 0, 2, 3, 2, 0, 3, 2, 1, 0, 0, 3, 3, 4, 4, 4,\n",
       "       4, 4, 4, 4, 4, 4, 4, 4, 4, 4, 4, 4, 4, 4, 4, 4, 4, 0, 3, 3, 1, 0,\n",
       "       3, 3, 1, 0, 0, 3, 2, 1, 0, 2, 3, 2, 0, 3, 2, 1, 0, 2, 3, 3, 1, 1,\n",
       "       0, 0, 3, 2, 1, 3, 2, 1, 3, 0, 0, 3, 1, 0, 4, 4, 4, 4, 4, 4, 4, 4,\n",
       "       4, 4, 4, 4, 4, 4, 4, 4, 4, 4, 3, 2, 0, 3, 3, 1, 0, 3, 3, 2, 0, 3,\n",
       "       2, 1, 3, 2, 0, 3, 3, 2, 1, 3, 2, 0, 3, 3, 1, 0, 3, 2, 1, 3, 2, 1,\n",
       "       3, 2, 0, 3, 2, 1, 0, 3, 2, 0, 3, 2, 1, 3, 2, 1, 0, 2, 0, 2, 1, 3,\n",
       "       2, 0, 3, 2, 1, 0, 0, 3, 3, 1, 0, 0, 3, 2, 1, 3, 2, 1, 0, 2, 1, 0,\n",
       "       0, 3, 2, 1, 0, 0, 3, 2, 1, 0, 2, 0, 1, 3, 1, 0, 2, 3, 2, 1, 0, 3,\n",
       "       2, 0, 3, 2, 1, 3, 2, 1, 0, 3, 3, 1, 0, 3, 2, 1, 1, 0, 0, 3, 1, 0,\n",
       "       0, 3, 2, 1, 3, 2, 1, 0, 0, 3, 3, 1, 0, 3, 3, 1, 0, 0, 2, 3, 2, 1,\n",
       "       0, 2, 3, 3, 1, 3, 2, 0, 1, 3, 1, 0, 1, 3, 0, 3, 2, 1, 1, 3, 1, 0,\n",
       "       3, 2, 0, 3, 2, 1, 0, 0, 3, 3, 1, 0, 3, 2, 1, 3, 2, 1, 3, 2, 0, 3,\n",
       "       2, 1, 0, 3, 3, 1, 1, 0, 0, 3, 3, 1, 0, 3, 3, 1, 0, 0, 3, 2, 1, 3,\n",
       "       2, 0, 3, 3, 1, 0, 3, 3, 1, 0, 0, 3, 2, 1, 3, 2, 0, 0, 3, 2, 1, 3,\n",
       "       3, 1, 0, 3, 3, 0, 0, 3, 1, 0, 0, 3, 2, 1, 1, 0, 0, 3, 2, 1, 3, 2,\n",
       "       0, 3, 0, 1, 0, 1, 0, 2, 3, 3, 1, 0, 3, 2, 0, 3, 2, 1, 3, 2, 0, 3,\n",
       "       2, 1, 0, 2, 3, 1, 1, 0, 0, 3, 2, 0, 3, 2, 0, 0, 3, 2, 0, 3, 2, 1,\n",
       "       0, 0, 0, 3, 3, 1, 0, 3, 2, 1, 0, 0, 3, 2, 1, 3, 2, 0, 3, 2, 0, 3,\n",
       "       2, 1, 0, 2, 1, 0, 0, 3, 2, 1, 0, 2, 3, 1, 0, 1, 0, 2, 3, 2, 0, 3,\n",
       "       3, 1, 0, 3, 3, 1, 0, 3, 2, 1, 0, 1, 0, 0, 3, 2, 1, 3, 0, 0, 3, 3,\n",
       "       1, 0, 3, 3, 1, 0, 3, 2, 1, 3, 0, 0, 3, 2, 1, 0, 2, 1, 3, 2, 0, 3,\n",
       "       2, 1, 0, 2, 3, 2, 1, 3, 2, 1, 0, 0, 3, 2, 1, 0, 3, 1, 1, 0, 0, 3,\n",
       "       3, 1, 0, 0, 2, 3, 1, 1, 0, 0, 3, 2, 1, 0, 2, 0, 3, 2, 1, 3, 1, 4,\n",
       "       4, 4, 4, 4, 4, 4, 4, 4, 4, 4, 4, 4, 4, 4, 4, 4, 4, 4, 4, 0, 2, 0,\n",
       "       3, 3, 1, 0, 0, 3, 3, 0, 0, 3, 2, 4, 4, 4, 4, 4, 4, 4, 4, 4, 4, 4,\n",
       "       4, 4, 4, 4, 4, 4, 4, 4, 4, 4, 0, 0, 0, 2, 1, 3, 1, 0, 0, 3, 2, 1,\n",
       "       0, 0, 3, 1, 1, 0, 3, 2, 1, 3, 2, 0, 3, 2, 1, 0, 2, 1, 3, 2, 0, 3,\n",
       "       2, 0, 3, 2, 0, 3, 2, 1, 0, 2], dtype=int64)"
      ]
     },
     "execution_count": 23,
     "metadata": {},
     "output_type": "execute_result"
    }
   ],
   "source": [
    "np.argmax(generator(noise).detach().cpu().numpy(),0)"
   ]
  },
  {
   "cell_type": "code",
   "execution_count": 6,
   "metadata": {},
   "outputs": [],
   "source": [
    "dna_vocab = {\"A\":0,\n",
    "             \"C\":1,\n",
    "             \"G\":2,\n",
    "             \"T\":3,\n",
    "             \"N\":4} # catch-all auxiliary token\n",
    "\n",
    "class GenomicData(Dataset):\n",
    "    def __init__(self, path, seq_len):\n",
    "        self.seq_len = seq_len\n",
    "        with open(path) as fasta_file:  # Will close handle cleanly\n",
    "            seq_record = {}\n",
    "            seq_record[\"lengths\"] = []\n",
    "            seq_record[\"seq\"] = []\n",
    "\n",
    "            for seq_rec in SeqIO.parse(fasta_file, 'fasta'):  # (generator)\n",
    "                seq_record[\"lengths\"].append(len(seq_rec.seq))\n",
    "                seq_record[\"seq\"].append(seq_rec.seq)\n",
    "        self.len = int(seq_record[\"lengths\"][0])\n",
    "        self.coded_seq = []\n",
    "        for one in list(seq_record[\"seq\"][0]):\n",
    "            try:\n",
    "                self.coded_seq.append(dna_vocab[one.upper()])\n",
    "            except:\n",
    "                print(one)\n",
    "\n",
    "    def __len__(self):\n",
    "        return int(self.len/self.seq_len)#int(np.round((self.len - self.seq_len)/100))\n",
    "    \n",
    "    def __getitem__(self, idx):\n",
    "        return torch.Tensor(ohe_DNA(self.coded_seq[idx* self.seq_len:(idx+1)*self.seq_len]))\n",
    "\n",
    "\n",
    "GenData = GenomicData(\"./data/chr1.fa\", max_seq_len)"
   ]
  },
  {
   "cell_type": "code",
   "execution_count": 8,
   "metadata": {},
   "outputs": [
    {
     "data": {
      "text/plain": [
       "torch.Size([1000, 5])"
      ]
     },
     "execution_count": 8,
     "metadata": {},
     "output_type": "execute_result"
    }
   ],
   "source": [
    "GenData[1].shape"
   ]
  },
  {
   "cell_type": "markdown",
   "metadata": {},
   "source": [
    "# Structure of NNs"
   ]
  },
  {
   "cell_type": "markdown",
   "metadata": {},
   "source": [
    "6 сверточных слоев с skip connection residual factor 0.3.\n",
    "В сверточном слое 100 фильтров ядро 5 stribe 1\n",
    "adam optimazer и wasserstein loss(WGAN) and lr 1e-5"
   ]
  },
  {
   "cell_type": "code",
   "execution_count": 9,
   "metadata": {},
   "outputs": [],
   "source": [
    "import torch.nn as nn\n",
    "import torch.functional as F"
   ]
  },
  {
   "cell_type": "code",
   "execution_count": 10,
   "metadata": {},
   "outputs": [],
   "source": [
    "class Generator_new(nn.Module):\n",
    "    def __init__(self,  latent_vars, gen_dim, max_seq_len, annotated=False, res_layers=5):\n",
    "        super(Generator_new, self).__init__()\n",
    "        self.input_size = latent_vars.shape\n",
    "        self.output_size = gen_dim * max_seq_len\n",
    "        self.seq_len = max_seq_len\n",
    "        self.gen_dim = gen_dim\n",
    "        self.res_layer = res_layers\n",
    "        #self.conv1 = nn.Conv1d(3,6,5,1)\n",
    "        self.con1 = nn.Conv1d(gen_dim ,gen_dim,5,1, padding = 'same')\n",
    "        self.con2 = nn.Conv1d(gen_dim ,gen_dim,5,1, padding = 'same')\n",
    "        self.con3 = nn.Conv1d(gen_dim ,gen_dim,5,1, padding = 'same')\n",
    "        self.con4 = nn.Conv1d(gen_dim ,gen_dim,5,1, padding = 'same')\n",
    "        self.con5 = nn.Conv1d(gen_dim ,gen_dim,5,1, padding = 'same')\n",
    "        self.conv1 = nn.Sequential(\n",
    "                        nn.Conv1d(gen_dim,5,5,1, padding = 'same'),\n",
    "                        nn.ReLU())\n",
    "        # self.con_array = [\n",
    "        #     self.con1,\n",
    "        #     self.con2,\n",
    "        #     self.con3,\n",
    "        #     self.con4,\n",
    "        #     self.con5,\n",
    "        # ]\n",
    "        self.relu = nn.ReLU()\n",
    "        self.softmax = nn.Softmax()#nn.Sigmoid()\n",
    "        self.linear = nn.Linear(1,100)\n",
    "        \n",
    "\n",
    "    def forward(self,x):\n",
    "        x = torch.transpose(x, 0, 1)\n",
    "        x = self.linear(x) \n",
    "        x = torch.transpose(x , 0, 1)\n",
    "        _input = x\n",
    "        \n",
    "        out = self.con1(_input)\n",
    "        out = _input + 0.3 * out\n",
    "        _input = self.relu(out)\n",
    "        \n",
    "        out = self.con2(_input)\n",
    "        out = _input + 0.3 * out\n",
    "        _input = self.relu(out)\n",
    "\n",
    "        out = self.con3(_input)\n",
    "        out = _input + 0.3 * out\n",
    "        _input = self.relu(out)\n",
    "\n",
    "        out = self.con4(_input)\n",
    "        out = _input + 0.3 * out\n",
    "        _input = self.relu(out)\n",
    "\n",
    "        out = self.con5(_input)\n",
    "        out = _input + 0.3 * out\n",
    "        _input = self.relu(out)\n",
    "\n",
    "        output = self.conv1(_input)\n",
    "        output = torch.transpose(output, 0, 1)\n",
    "        output = self.softmax(output)\n",
    "        output = torch.transpose(output, 0, 1)\n",
    "        return output"
   ]
  },
  {
   "cell_type": "code",
   "execution_count": 11,
   "metadata": {},
   "outputs": [],
   "source": [
    "class Critical_new(nn.Module):\n",
    "    def __init__(self,  latent_vars, gen_dim, max_seq_len, annotated=False, res_layers=5):\n",
    "        super(Critical_new, self).__init__()\n",
    "        self.input_size = latent_vars.shape\n",
    "        self.output_size = gen_dim * max_seq_len\n",
    "        self.seq_len = max_seq_len\n",
    "        self.gen_dim = gen_dim\n",
    "        self.res_layer = res_layers\n",
    "        #self.conv1 = nn.Conv1d(3,6,5,1)\n",
    "        self.con1 = nn.Conv1d(gen_dim ,gen_dim,5,1, padding = 'same')\n",
    "        self.con2 = nn.Conv1d(gen_dim ,gen_dim,5,1, padding = 'same')\n",
    "        self.con3 = nn.Conv1d(gen_dim ,gen_dim,5,1, padding = 'same')\n",
    "        self.con4 = nn.Conv1d(gen_dim ,gen_dim,5,1, padding = 'same')\n",
    "        self.con5 = nn.Conv1d(gen_dim ,gen_dim,5,1, padding = 'same')\n",
    "        self.conv1 = nn.Sequential(\n",
    "                        nn.Conv1d(5, gen_dim,5,1, padding = 'same'),\n",
    "                        nn.ReLU())\n",
    "        # self.con_array = [\n",
    "        #     self.con1,\n",
    "        #     self.con2,\n",
    "        #     self.con3,\n",
    "        #     self.con4,\n",
    "        #     self.con5,\n",
    "        # ]\n",
    "        self.relu = nn.ReLU()\n",
    "        self.linear = nn.Linear(100,1)\n",
    "        # self.sigmoid = nn.Sigmoid()\n",
    "\n",
    "\n",
    "    def forward(self,x):\n",
    "        _input = self.conv1(x)\n",
    "        \n",
    "        out = self.con1(_input)\n",
    "        out = _input + 0.3 * out\n",
    "        _input = self.relu(out)\n",
    "\n",
    "        out = self.con2(_input)\n",
    "        out = _input + 0.3 * out\n",
    "        _input = self.relu(out)\n",
    "\n",
    "        out = self.con3(_input)\n",
    "        out = _input + 0.3 * out\n",
    "        _input = self.relu(out)\n",
    "\n",
    "        out = self.con4(_input)\n",
    "        out = _input + 0.3 * out\n",
    "        _input = self.relu(out)\n",
    "\n",
    "        out = self.con5(_input)\n",
    "        out = _input + 0.3 * out\n",
    "        _input = self.relu(out)\n",
    "\n",
    "        output = torch.transpose(_input, 0, 1)\n",
    "        output = self.linear(output)\n",
    "        output = torch.transpose(output, 0, 1)\n",
    "        return output\n"
   ]
  },
  {
   "cell_type": "code",
   "execution_count": 12,
   "metadata": {},
   "outputs": [],
   "source": [
    "num_classes = 10\n",
    "num_epochs = 20\n",
    "batch_size = 16\n",
    "learning_rate = 0.01"
   ]
  },
  {
   "cell_type": "code",
   "execution_count": 13,
   "metadata": {},
   "outputs": [],
   "source": [
    "latent_vars = torch.randn([10,10])"
   ]
  },
  {
   "cell_type": "code",
   "execution_count": 14,
   "metadata": {},
   "outputs": [],
   "source": [
    "generator= Generator_new(latent_vars,gen_dim,max_seq_len)\n",
    "discriminator = Critical_new(latent_vars,gen_dim,max_seq_len)"
   ]
  },
  {
   "cell_type": "code",
   "execution_count": 15,
   "metadata": {},
   "outputs": [],
   "source": [
    "Load = True\n",
    "if Load:\n",
    "    generator.load_state_dict(torch.load(\"./models/generator.mod\"))\n",
    "    generator.eval()\n",
    "\n",
    "    discriminator.load_state_dict(torch.load(\"./models/discriminator.mod\"))\n",
    "    discriminator.eval()"
   ]
  },
  {
   "cell_type": "code",
   "execution_count": 133,
   "metadata": {},
   "outputs": [],
   "source": [
    "# generator.cuda()\n",
    "# out = generator(z)\n",
    "# discriminator.cuda()\n",
    "# discriminator(out).size()"
   ]
  },
  {
   "cell_type": "code",
   "execution_count": 16,
   "metadata": {},
   "outputs": [],
   "source": [
    "if cuda:\n",
    "    generator.cuda()\n",
    "    discriminator.cuda()\n",
    "    #adversarial_loss.cuda()"
   ]
  },
  {
   "cell_type": "markdown",
   "metadata": {},
   "source": [
    "_____"
   ]
  },
  {
   "cell_type": "code",
   "execution_count": 135,
   "metadata": {},
   "outputs": [],
   "source": [
    "# suggested default - beta parameters (decay of first order momentum of gradients)\n",
    "b1 = 0.5\n",
    "b2 = 0.999\n",
    "\n",
    "# suggested default - learning rate\n",
    "lr = 1e-4"
   ]
  },
  {
   "cell_type": "code",
   "execution_count": 136,
   "metadata": {},
   "outputs": [],
   "source": [
    "optimizer_G = torch.optim.Adam(generator.parameters(), lr=lr, betas = (b1,b2) )\n",
    "optimizer_D = torch.optim.Adam(discriminator.parameters(), lr=lr, betas = (b1,b2))"
   ]
  },
  {
   "cell_type": "markdown",
   "metadata": {},
   "source": [
    "____"
   ]
  },
  {
   "cell_type": "code",
   "execution_count": 137,
   "metadata": {},
   "outputs": [],
   "source": [
    "Tensor = torch.cuda.FloatTensor if cuda else torch.FloatTensor\n",
    "from tqdm.notebook import tqdm\n",
    "import matplotlib.pyplot as plt\n",
    "import matplotlib.gridspec as gridspec"
   ]
  },
  {
   "cell_type": "code",
   "execution_count": 138,
   "metadata": {},
   "outputs": [],
   "source": [
    "if _wandb:\n",
    "    wandb.watch(generator, log_freq=100)\n",
    "    wandb.watch(discriminator, log_freq=100)"
   ]
  },
  {
   "cell_type": "code",
   "execution_count": 139,
   "metadata": {},
   "outputs": [],
   "source": [
    "def reset_grad(model):\n",
    "    for param in model.parameters():\n",
    "        param.grad = None\n"
   ]
  },
  {
   "cell_type": "code",
   "execution_count": 140,
   "metadata": {},
   "outputs": [],
   "source": [
    "def compute_gradient_penalty(D, real_samples, fake_samples):\n",
    "    \"\"\"Calculates the gradient penalty loss for WGAN GP\"\"\"\n",
    "    # Random weight term for interpolation between real and fake samples\n",
    "    alpha = Tensor(np.random.random((real_samples.size(0), 1)))\n",
    "        # Get random interpolation between real and fake samples\n",
    "    interpolates = (alpha * real_samples + ((1 - alpha) * fake_data))\n",
    "    d_interpolates = discriminator(interpolates)\n",
    "    fake = Variable(Tensor(1,1000).fill_(1.0), requires_grad=False)\n",
    "        # Get gradient w.r.t. interpolates\n",
    "    gradients = autograd.grad(\n",
    "            outputs=d_interpolates,\n",
    "            inputs=interpolates,\n",
    "            grad_outputs=fake,\n",
    "            create_graph=True,\n",
    "            retain_graph=True,\n",
    "            only_inputs=True,\n",
    "        )[0]\n",
    "    gradients = gradients.view(gradients.size(0), -1)\n",
    "    gradient_penalty = ((gradients.norm(2, dim=1) - 1) ** 2).mean()\n",
    "    return gradient_penalty"
   ]
  },
  {
   "cell_type": "code",
   "execution_count": 141,
   "metadata": {},
   "outputs": [],
   "source": [
    "def WandbLogging(LogData,StartTime, Delay):\n",
    "    NowTime = time.perf_counter()\n",
    "    if NowTime - StartTime > Delay:\n",
    "        wandb.log(LogData)\n",
    "        return NowTime\n",
    "    else:\n",
    "        return StartTime"
   ]
  },
  {
   "cell_type": "code",
   "execution_count": 143,
   "metadata": {},
   "outputs": [],
   "source": [
    "from IPython.display import clear_output"
   ]
  },
  {
   "cell_type": "code",
   "execution_count": 144,
   "metadata": {},
   "outputs": [
    {
     "data": {
      "application/vnd.jupyter.widget-view+json": {
       "model_id": "2ba1aec372f34501a77791bb9ce7b3fe",
       "version_major": 2,
       "version_minor": 0
      },
      "text/plain": [
       "  0%|          | 0/41492 [00:00<?, ?it/s]"
      ]
     },
     "metadata": {},
     "output_type": "display_data"
    },
    {
     "name": "stderr",
     "output_type": "stream",
     "text": [
      "C:\\Temp\\ipykernel_2300\\752960707.py:58: UserWarning: Implicit dimension choice for softmax has been deprecated. Change the call to include dim=X as an argument.\n",
      "  output = self.softmax(output)\n"
     ]
    },
    {
     "name": "stdout",
     "output_type": "stream",
     "text": [
      "D_loss: -0.002578720450401306; G_loss: -0.19506196677684784\n"
     ]
    },
    {
     "data": {
      "application/vnd.jupyter.widget-view+json": {
       "model_id": "62438f081e4b402c909300b2ae5d9c93",
       "version_major": 2,
       "version_minor": 0
      },
      "text/plain": [
       "  0%|          | 0/41492 [00:00<?, ?it/s]"
      ]
     },
     "metadata": {},
     "output_type": "display_data"
    },
    {
     "name": "stdout",
     "output_type": "stream",
     "text": [
      "D_loss: 0.05816639959812164; G_loss: -0.19159919023513794\n"
     ]
    },
    {
     "data": {
      "application/vnd.jupyter.widget-view+json": {
       "model_id": "d06ca473cda04c1b928ae96d0c514aa5",
       "version_major": 2,
       "version_minor": 0
      },
      "text/plain": [
       "  0%|          | 0/41492 [00:00<?, ?it/s]"
      ]
     },
     "metadata": {},
     "output_type": "display_data"
    },
    {
     "name": "stdout",
     "output_type": "stream",
     "text": [
      "D_loss: 0.0005264878273010254; G_loss: -0.1460689753293991\n"
     ]
    },
    {
     "data": {
      "application/vnd.jupyter.widget-view+json": {
       "model_id": "6fa2a41a2d974cebb893781f84daa408",
       "version_major": 2,
       "version_minor": 0
      },
      "text/plain": [
       "  0%|          | 0/41492 [00:00<?, ?it/s]"
      ]
     },
     "metadata": {},
     "output_type": "display_data"
    },
    {
     "ename": "KeyboardInterrupt",
     "evalue": "",
     "output_type": "error",
     "traceback": [
      "\u001b[1;31m---------------------------------------------------------------------------\u001b[0m",
      "\u001b[1;31mKeyboardInterrupt\u001b[0m                         Traceback (most recent call last)",
      "Cell \u001b[1;32mIn[144], line 27\u001b[0m\n\u001b[0;32m     24\u001b[0m \u001b[39m#gradient_penalty = compute_gradient_penalty(discriminator, real_data, fake_data)\u001b[39;00m\n\u001b[0;32m     25\u001b[0m critics_loss \u001b[39m=\u001b[39m \u001b[39m-\u001b[39mtorch\u001b[39m.\u001b[39mmean(critics_real) \u001b[39m+\u001b[39m torch\u001b[39m.\u001b[39mmean(critics_fake) \u001b[39m#+ 10 * gradient_penalty\u001b[39;00m\n\u001b[1;32m---> 27\u001b[0m critics_loss\u001b[39m.\u001b[39;49mbackward()\n\u001b[0;32m     28\u001b[0m optimizer_D\u001b[39m.\u001b[39mstep()\n\u001b[0;32m     30\u001b[0m \u001b[39m# Weight clipping\u001b[39;00m\n",
      "File \u001b[1;32mc:\\ProgramData\\mambaforge\\envs\\GAN\\Lib\\site-packages\\torch\\_tensor.py:487\u001b[0m, in \u001b[0;36mTensor.backward\u001b[1;34m(self, gradient, retain_graph, create_graph, inputs)\u001b[0m\n\u001b[0;32m    477\u001b[0m \u001b[39mif\u001b[39;00m has_torch_function_unary(\u001b[39mself\u001b[39m):\n\u001b[0;32m    478\u001b[0m     \u001b[39mreturn\u001b[39;00m handle_torch_function(\n\u001b[0;32m    479\u001b[0m         Tensor\u001b[39m.\u001b[39mbackward,\n\u001b[0;32m    480\u001b[0m         (\u001b[39mself\u001b[39m,),\n\u001b[1;32m   (...)\u001b[0m\n\u001b[0;32m    485\u001b[0m         inputs\u001b[39m=\u001b[39minputs,\n\u001b[0;32m    486\u001b[0m     )\n\u001b[1;32m--> 487\u001b[0m torch\u001b[39m.\u001b[39;49mautograd\u001b[39m.\u001b[39;49mbackward(\n\u001b[0;32m    488\u001b[0m     \u001b[39mself\u001b[39;49m, gradient, retain_graph, create_graph, inputs\u001b[39m=\u001b[39;49minputs\n\u001b[0;32m    489\u001b[0m )\n",
      "File \u001b[1;32mc:\\ProgramData\\mambaforge\\envs\\GAN\\Lib\\site-packages\\torch\\autograd\\__init__.py:200\u001b[0m, in \u001b[0;36mbackward\u001b[1;34m(tensors, grad_tensors, retain_graph, create_graph, grad_variables, inputs)\u001b[0m\n\u001b[0;32m    195\u001b[0m     retain_graph \u001b[39m=\u001b[39m create_graph\n\u001b[0;32m    197\u001b[0m \u001b[39m# The reason we repeat same the comment below is that\u001b[39;00m\n\u001b[0;32m    198\u001b[0m \u001b[39m# some Python versions print out the first line of a multi-line function\u001b[39;00m\n\u001b[0;32m    199\u001b[0m \u001b[39m# calls in the traceback and some print out the last line\u001b[39;00m\n\u001b[1;32m--> 200\u001b[0m Variable\u001b[39m.\u001b[39;49m_execution_engine\u001b[39m.\u001b[39;49mrun_backward(  \u001b[39m# Calls into the C++ engine to run the backward pass\u001b[39;49;00m\n\u001b[0;32m    201\u001b[0m     tensors, grad_tensors_, retain_graph, create_graph, inputs,\n\u001b[0;32m    202\u001b[0m     allow_unreachable\u001b[39m=\u001b[39;49m\u001b[39mTrue\u001b[39;49;00m, accumulate_grad\u001b[39m=\u001b[39;49m\u001b[39mTrue\u001b[39;49;00m)\n",
      "\u001b[1;31mKeyboardInterrupt\u001b[0m: "
     ]
    }
   ],
   "source": [
    "clear_output()\n",
    "n_epochs = 10 # suggested default = 200\n",
    "for epoch in range(n_epochs):\n",
    "    dataloader = None\n",
    "    dataloader = DataLoader(GenData,6,drop_last=True, shuffle = True)\n",
    "    StartTime = time.perf_counter()\n",
    "    for i in tqdm(dataloader):\n",
    "        train_data = i.cuda()\n",
    "        #   Critical forward-loss-backward-update\n",
    "        for j in range(5):\n",
    "\n",
    "            # Sample data\n",
    "            noise = Variable(torch.randn((1,1000))).cuda()# Random sampling Tensor(batch_size, latent_dim) of Gaussian distribution\n",
    "        \n",
    "            # real_data = torch.reshape(train_data[j],(1,1000))\n",
    "            real_data = torch.transpose(train_data[j],0,1)\n",
    "            real_data = Variable(real_data)\n",
    "\n",
    "            #generic\n",
    "            fake_data = generator(noise)\n",
    "            critics_real = discriminator(real_data)\n",
    "            critics_fake = discriminator(fake_data)\n",
    "\n",
    "            #gradient_penalty = compute_gradient_penalty(discriminator, real_data, fake_data)\n",
    "            critics_loss = -torch.mean(critics_real) + torch.mean(critics_fake) #+ 10 * gradient_penalty\n",
    "            \n",
    "            critics_loss.backward()\n",
    "            optimizer_D.step()\n",
    "\n",
    "            # Weight clipping\n",
    "            for p in discriminator.parameters():\n",
    "                p.data.clamp_(-0.01, 0.01)\n",
    "\n",
    "            # Housekeeping - reset gradient\n",
    "            reset_grad(generator)\n",
    "            reset_grad(discriminator)\n",
    "\n",
    "        #   Generator forward-loss-backward-update\n",
    "        \n",
    "        noise = Variable(torch.randn((1,1000))).cuda()# Random sampling Tensor(batch_size, latent_dim) of Gaussian distribution\n",
    "        #real_data = torch.reshape(train_data[j+1],(1,1000))\n",
    "        real_data = Variable(real_data)\n",
    "        #real_data = imgs[\"generator\"].type(Tensor)\n",
    "\n",
    "        fake_data = generator(noise)\n",
    "        critics_fake = discriminator(fake_data)\n",
    "\n",
    "        generator_loss = -torch.mean(critics_fake)\n",
    "        \n",
    "        generator_loss.backward()\n",
    "        optimizer_G.step()\n",
    "\n",
    "        # Housekeeping - reset gradient\n",
    "        reset_grad(generator)\n",
    "        reset_grad(discriminator)\n",
    "\n",
    "        if _wandb:\n",
    "            table = wandb.Histogram(np_histogram = np.histogram(np.argmax(generator(noise).detach().cpu().numpy(),0)))\n",
    "            WandbLogDict = {\"Epoch\": epoch+1, \"Critics_loss\": critics_loss.item(), \"Generator_loss\": generator_loss.item(),\"Results\": table}\n",
    "            StartTime = WandbLogging(WandbLogDict, StartTime, 120)\n",
    "            \n",
    "\n",
    "    print('D_loss: {}; G_loss: {}'\n",
    "              .format(critics_loss.item(),  generator_loss.item()))\n"
   ]
  },
  {
   "cell_type": "code",
   "execution_count": 154,
   "metadata": {},
   "outputs": [
    {
     "data": {
      "text/html": [
       "Waiting for W&B process to finish... <strong style=\"color:green\">(success).</strong>"
      ],
      "text/plain": [
       "<IPython.core.display.HTML object>"
      ]
     },
     "metadata": {},
     "output_type": "display_data"
    },
    {
     "data": {
      "application/vnd.jupyter.widget-view+json": {
       "model_id": "b7c19ead3f224bd4bdcb5eb9180fca8a",
       "version_major": 2,
       "version_minor": 0
      },
      "text/plain": [
       "VBox(children=(Label(value='0.001 MB of 0.001 MB uploaded (0.000 MB deduped)\\r'), FloatProgress(value=1.0, max…"
      ]
     },
     "metadata": {},
     "output_type": "display_data"
    },
    {
     "data": {
      "text/html": [
       "<style>\n",
       "    table.wandb td:nth-child(1) { padding: 0 10px; text-align: left ; width: auto;} td:nth-child(2) {text-align: left ; width: 100%}\n",
       "    .wandb-row { display: flex; flex-direction: row; flex-wrap: wrap; justify-content: flex-start; width: 100% }\n",
       "    .wandb-col { display: flex; flex-direction: column; flex-basis: 100%; flex: 1; padding: 10px; }\n",
       "    </style>\n",
       "<div class=\"wandb-row\"><div class=\"wandb-col\"><h3>Run history:</h3><br/><table class=\"wandb\"><tr><td>Critics_loss</td><td>▆▃▅▇▅▆▆▆▅▆▅▆▆▅▆▆▅▅█▆▆▁▆▁▆█▆▅▆▆▅▇▆▅▆▆▆▅▅▆</td></tr><tr><td>Epoch</td><td>▁▁▁▁▁▁▁▁▁▁▁▁▁▃▃▃▃▃▃▃▃▃▃▃▃▃▆▆▆▆▆▆▆▆▆▆▆▆██</td></tr><tr><td>Generator_loss</td><td>▅▂▆▃▇█▇▆▆▂▂▂▁▁▃▁▁▂▂▄▃▂▃▂▅▄▂▂▂▃▃▃▂▃▃▃▃▁▁▂</td></tr></table><br/></div><div class=\"wandb-col\"><h3>Run summary:</h3><br/><table class=\"wandb\"><tr><td>Critics_loss</td><td>-0.01131</td></tr><tr><td>Epoch</td><td>4</td></tr><tr><td>Generator_loss</td><td>-0.15468</td></tr></table><br/></div></div>"
      ],
      "text/plain": [
       "<IPython.core.display.HTML object>"
      ]
     },
     "metadata": {},
     "output_type": "display_data"
    },
    {
     "data": {
      "text/html": [
       " View run <strong style=\"color:#cdcd00\">happy-terrain-32</strong> at: <a href='https://wandb.ai/xbostick/GAN-Z/runs/tlqkgdh7' target=\"_blank\">https://wandb.ai/xbostick/GAN-Z/runs/tlqkgdh7</a><br/>Synced 5 W&B file(s), 0 media file(s), 0 artifact file(s) and 0 other file(s)"
      ],
      "text/plain": [
       "<IPython.core.display.HTML object>"
      ]
     },
     "metadata": {},
     "output_type": "display_data"
    },
    {
     "data": {
      "text/html": [
       "Find logs at: <code>.\\wandb\\run-20230902_164802-tlqkgdh7\\logs</code>"
      ],
      "text/plain": [
       "<IPython.core.display.HTML object>"
      ]
     },
     "metadata": {},
     "output_type": "display_data"
    }
   ],
   "source": [
    "wandb.finish()"
   ]
  },
  {
   "cell_type": "code",
   "execution_count": 162,
   "metadata": {},
   "outputs": [],
   "source": [
    "torch.save(generator.state_dict(), \"./models/generator.mod\")\n",
    "torch.save(discriminator.state_dict(), \"./models/discriminator.mod\")"
   ]
  },
  {
   "cell_type": "code",
   "execution_count": 24,
   "metadata": {},
   "outputs": [],
   "source": [
    "def generate_seq(generator):\n",
    "    noise = Variable(torch.randn((1,1000))).cuda()\n",
    "    OheSeq = generator(noise).detach().cpu().numpy()\n",
    "    return np.argmax(OheSeq,0)"
   ]
  },
  {
   "cell_type": "markdown",
   "metadata": {},
   "source": [
    "# Metrics"
   ]
  },
  {
   "cell_type": "markdown",
   "metadata": {},
   "source": [
    "## GC content"
   ]
  },
  {
   "cell_type": "code",
   "execution_count": 31,
   "metadata": {},
   "outputs": [],
   "source": [
    "def GC_Content(ohe_seq):\n",
    "    return (sum(ohe_seq == dna_vocab[\"G\"]) + sum(ohe_seq == dna_vocab[\"C\"]))/len(ohe_seq)"
   ]
  },
  {
   "cell_type": "code",
   "execution_count": 64,
   "metadata": {},
   "outputs": [
    {
     "name": "stderr",
     "output_type": "stream",
     "text": [
      "C:\\Temp\\ipykernel_13088\\752960707.py:58: UserWarning: Implicit dimension choice for softmax has been deprecated. Change the call to include dim=X as an argument.\n",
      "  output = self.softmax(output)\n"
     ]
    }
   ],
   "source": [
    "o = generate_seq(generator)"
   ]
  },
  {
   "cell_type": "code",
   "execution_count": 65,
   "metadata": {},
   "outputs": [
    {
     "data": {
      "text/plain": [
       "array([3, 2, 1, 3, 2, 0, 0, 3, 2, 0, 3, 2, 0, 3, 2, 1, 3, 2, 1, 3, 2, 0,\n",
       "       3, 2, 1, 3, 2, 1, 0, 0, 3, 3, 1, 0, 3, 3, 1, 0, 3, 2, 1, 3, 2, 0,\n",
       "       3, 2, 0, 3, 3, 1, 0, 0, 3, 2, 0, 3, 3, 1, 0, 3, 2, 0, 3, 2, 1, 3,\n",
       "       2, 1, 3, 2, 1, 3, 2, 0, 0, 3, 2, 0, 3, 2, 1, 0, 2, 1, 0, 0, 3, 2,\n",
       "       0, 3, 2, 1, 3, 2, 0, 0, 3, 2, 1, 3, 2, 0, 3, 2, 1, 0, 3, 2, 1, 0,\n",
       "       1, 3, 2, 1, 3, 2, 0, 3, 3, 1, 0, 0, 3, 2, 1, 3, 2, 0, 3, 2, 1, 3,\n",
       "       2, 0, 3, 2, 1, 0, 2, 2, 0, 3, 2, 1, 0, 0, 3, 2, 1, 3, 2, 0, 3, 3,\n",
       "       1, 0, 3, 3, 2, 0, 3, 2, 1, 3, 3, 2, 0, 3, 2, 1, 3, 2, 3, 3, 1, 0,\n",
       "       0, 3, 3, 1, 0, 0, 3, 1, 0, 0, 3, 3, 1, 0, 3, 3, 2, 0, 3, 2, 1, 0,\n",
       "       3, 2, 1, 3, 1, 0, 0, 3, 2, 1, 0, 3, 2, 1, 0, 2, 2, 3, 1, 0, 0, 3,\n",
       "       2, 0, 3, 2, 1, 3, 2, 1, 3, 1, 0, 2, 0, 3, 3, 1, 0, 3, 2, 1, 3, 2,\n",
       "       0, 3, 2, 1, 3, 2, 0, 3, 2, 0, 3, 2, 1, 0, 0, 3, 2, 1, 3, 2, 0, 3,\n",
       "       2, 1, 3, 1, 3, 1, 0, 0, 3, 1, 1, 0, 3, 2, 1, 0, 1, 3, 2, 0, 3, 2,\n",
       "       1, 3, 2, 0, 0, 3, 3, 1, 0, 3, 2, 1, 3, 3, 0, 0, 3, 2, 1, 0, 2, 3,\n",
       "       0, 3, 2, 0, 3, 2, 1, 0, 3, 1, 0, 3, 2, 1, 3, 3, 1, 0, 0, 3, 2, 0,\n",
       "       3, 2, 0, 3, 2, 1, 3, 2, 0, 3, 2, 1, 3, 1, 1, 0, 3, 3, 1, 3, 2, 0,\n",
       "       3, 3, 1, 0, 3, 2, 1, 0, 0, 3, 2, 1, 1, 0, 0, 3, 2, 1, 0, 3, 3, 1,\n",
       "       0, 0, 3, 1, 0, 1, 3, 2, 0, 0, 4, 4, 4, 4, 4, 4, 4, 4, 4, 4, 4, 4,\n",
       "       4, 4, 4, 4, 4, 4, 4, 4, 4, 3, 1, 0, 0, 3, 3, 1, 0, 3, 3, 1, 0, 3,\n",
       "       1, 1, 0, 3, 3, 1, 0, 3, 2, 1, 1, 0, 0, 3, 1, 0, 0, 3, 2, 1, 0, 2,\n",
       "       0, 3, 1, 0, 3, 2, 1, 1, 0, 1, 3, 2, 0, 2, 2, 1, 3, 1, 3, 2, 0, 3,\n",
       "       3, 1, 0, 2, 3, 1, 1, 0, 0, 3, 3, 1, 1, 0, 0, 3, 2, 0, 3, 2, 1, 0,\n",
       "       2, 1, 3, 0, 0, 3, 3, 1, 0, 3, 2, 1, 0, 2, 3, 2, 0, 3, 3, 1, 0, 3,\n",
       "       3, 1, 0, 3, 2, 0, 0, 3, 2, 1, 0, 3, 0, 0, 3, 3, 1, 0, 3, 2, 1, 3,\n",
       "       2, 0, 3, 3, 1, 0, 2, 0, 3, 3, 1, 0, 3, 3, 3, 0, 0, 3, 3, 1, 0, 3,\n",
       "       3, 1, 0, 0, 2, 3, 3, 1, 0, 3, 2, 1, 0, 3, 0, 1, 3, 2, 3, 0, 0, 3,\n",
       "       2, 1, 3, 2, 0, 0, 3, 2, 0, 3, 3, 1, 0, 3, 2, 1, 0, 0, 3, 2, 1, 3,\n",
       "       2, 0, 0, 3, 1, 0, 1, 0, 0, 3, 3, 0, 0, 3, 2, 0, 3, 2, 0, 3, 2, 1,\n",
       "       3, 2, 0, 3, 2, 1, 0, 3, 2, 1, 0, 0, 3, 2, 1, 0, 2, 1, 1, 0, 0, 3,\n",
       "       3, 1, 0, 3, 2, 1, 0, 3, 2, 1, 0, 3, 0, 0, 0, 2, 3, 2, 0, 3, 2, 1,\n",
       "       0, 3, 2, 1, 3, 2, 0, 3, 3, 1, 0, 0, 3, 2, 1, 3, 2, 0, 1, 3, 2, 1,\n",
       "       0, 0, 3, 3, 1, 0, 3, 2, 0, 3, 3, 1, 0, 3, 3, 1, 0, 3, 2, 1, 0, 3,\n",
       "       2, 0, 3, 3, 2, 0, 3, 2, 1, 0, 0, 3, 3, 1, 0, 3, 3, 2, 0, 3, 2, 1,\n",
       "       0, 3, 1, 0, 0, 3, 2, 0, 3, 3, 1, 0, 3, 2, 1, 3, 1, 0, 0, 3, 2, 1,\n",
       "       0, 0, 3, 1, 0, 3, 3, 1, 0, 3, 1, 0, 3, 2, 0, 3, 3, 1, 0, 3, 2, 1,\n",
       "       0, 2, 0, 2, 3, 1, 3, 2, 0, 3, 2, 0, 3, 2, 1, 3, 2, 0, 0, 0, 2, 3,\n",
       "       1, 0, 0, 3, 3, 1, 0, 0, 3, 2, 1, 3, 2, 3, 3, 1, 0, 3, 3, 1, 0, 0,\n",
       "       2, 0, 1, 0, 0, 3, 2, 1, 0, 3, 2, 1, 0, 2, 3, 2, 1, 3, 2, 0, 3, 2,\n",
       "       1, 1, 0, 0, 3, 2, 1, 3, 2, 0, 3, 2, 1, 0, 0, 3, 3, 1, 0, 0, 2, 1,\n",
       "       1, 0, 3, 3, 1, 1, 0, 0, 3, 2, 0, 3, 2, 1, 0, 3, 2, 3, 4, 4, 4, 4,\n",
       "       4, 4, 4, 4, 4, 4, 4, 4, 4, 4, 4, 4, 4, 4, 4, 4, 4, 0, 3, 3, 0, 0,\n",
       "       3, 2, 1, 0, 2, 3, 3, 2, 0, 3, 2, 0, 3, 3, 2, 0, 3, 2, 1, 0, 3, 2,\n",
       "       1, 0, 2, 0, 3, 0, 1, 3, 1, 0, 0, 1, 3, 1, 0, 3, 2, 1, 0, 2, 3, 1,\n",
       "       1, 0, 3, 2, 1, 0, 3, 3, 1, 0, 3, 3, 1, 0, 3, 3, 1, 0, 0, 3, 2, 1,\n",
       "       0, 0, 3, 2, 1, 3, 2, 1, 4, 4, 4, 4, 4, 4, 4, 4, 4, 4, 4, 4, 4, 4,\n",
       "       4, 4, 4, 4, 4, 4, 4, 1, 0, 3], dtype=int64)"
      ]
     },
     "execution_count": 65,
     "metadata": {},
     "output_type": "execute_result"
    }
   ],
   "source": [
    "o"
   ]
  },
  {
   "cell_type": "code",
   "execution_count": 35,
   "metadata": {},
   "outputs": [
    {
     "data": {
      "text/plain": [
       "tensor([0., 0., 0., 0., 1.])"
      ]
     },
     "execution_count": 35,
     "metadata": {},
     "output_type": "execute_result"
    }
   ],
   "source": [
    "GC_Content(GenData[0])"
   ]
  },
  {
   "cell_type": "code",
   "execution_count": 67,
   "metadata": {},
   "outputs": [
    {
     "data": {
      "text/plain": [
       "array([[0., 0., 0., 0., 1.],\n",
       "       [0., 0., 0., 0., 1.],\n",
       "       [0., 0., 0., 0., 1.],\n",
       "       ...,\n",
       "       [0., 0., 0., 0., 1.],\n",
       "       [0., 0., 0., 0., 1.],\n",
       "       [0., 0., 0., 0., 1.]])"
      ]
     },
     "execution_count": 67,
     "metadata": {},
     "output_type": "execute_result"
    }
   ],
   "source": [
    "np.array(GenData[0].tolist())"
   ]
  },
  {
   "cell_type": "code",
   "execution_count": 66,
   "metadata": {},
   "outputs": [
    {
     "data": {
      "text/plain": [
       "[]"
      ]
     },
     "execution_count": 66,
     "metadata": {},
     "output_type": "execute_result"
    }
   ],
   "source": [
    "reverse_ohe_DNA(GenData[0].tolist())"
   ]
  },
  {
   "cell_type": "code",
   "execution_count": 70,
   "metadata": {},
   "outputs": [
    {
     "data": {
      "text/plain": [
       "0.397"
      ]
     },
     "execution_count": 70,
     "metadata": {},
     "output_type": "execute_result"
    }
   ],
   "source": [
    "GC_Content(np.array(reverse_ohe_DNA(GenData[1100].tolist())))"
   ]
  },
  {
   "cell_type": "code",
   "execution_count": 36,
   "metadata": {},
   "outputs": [
    {
     "data": {
      "text/plain": [
       "tensor([[0., 0., 0., 0., 1.],\n",
       "        [0., 0., 0., 0., 1.],\n",
       "        [0., 0., 0., 0., 1.],\n",
       "        ...,\n",
       "        [0., 0., 0., 0., 1.],\n",
       "        [0., 0., 0., 0., 1.],\n",
       "        [0., 0., 0., 0., 1.]])"
      ]
     },
     "execution_count": 36,
     "metadata": {},
     "output_type": "execute_result"
    }
   ],
   "source": [
    "GenData[0]"
   ]
  },
  {
   "cell_type": "code",
   "execution_count": 30,
   "metadata": {},
   "outputs": [
    {
     "data": {
      "text/plain": [
       "376"
      ]
     },
     "execution_count": 30,
     "metadata": {},
     "output_type": "execute_result"
    }
   ],
   "source": [
    "sum(o == 3) + sum(o == 4)"
   ]
  },
  {
   "cell_type": "code",
   "execution_count": null,
   "metadata": {},
   "outputs": [
    {
     "data": {
      "text/plain": [
       "tensor([0., 1., 1., 1., 3., 2., 0., 1., 1., 1., 3., 1., 1., 0., 3., 3., 2., 0.,\n",
       "        2., 1., 3., 2., 0., 3., 3., 2., 2., 1., 0., 3., 3., 2., 2., 1., 1., 0.,\n",
       "        3., 1., 1., 1., 1., 0., 2., 0., 1., 0., 2., 1., 0., 2., 0., 2., 1., 3.,\n",
       "        2., 0., 0., 0., 0., 0., 2., 1., 0., 1., 3., 2., 2., 3., 3., 2., 3., 0.,\n",
       "        0., 1., 0., 3., 2., 1., 3., 3., 2., 2., 0., 1., 0., 1., 3., 2., 1., 3.,\n",
       "        2., 3., 2., 2., 2., 2., 1., 1., 1., 0., 1., 0., 1., 0., 2., 0., 2., 1.,\n",
       "        1., 3., 2., 1., 3., 1., 1., 0., 2., 1., 1., 0., 2., 0., 2., 0., 0., 2.,\n",
       "        0., 2., 3., 2., 0., 1., 3., 2., 2., 1., 1., 0., 2., 3., 3., 1., 1., 1.,\n",
       "        2., 1., 2., 3., 3., 1., 0., 3., 3., 3., 2., 1., 3., 1., 1., 0., 2., 3.,\n",
       "        3., 1., 1., 1., 0., 1., 0., 1., 3., 1., 0., 1., 3., 1., 2., 1., 3., 1.,\n",
       "        2., 1., 0., 3., 2., 1., 3., 1., 1., 1., 3., 0., 1., 3., 2., 3., 2., 0.,\n",
       "        2., 2., 0., 2., 0., 0., 2., 1., 1., 0., 2., 1., 2., 3., 1., 1., 2., 2.,\n",
       "        1., 3., 2., 0., 2., 3., 2., 0., 0., 0., 1., 0., 0., 2., 1., 1., 0., 1.,\n",
       "        3., 1., 1., 0., 3., 1., 1., 1., 1., 0., 1., 1., 1., 1., 1., 1., 2., 0.,\n",
       "        1., 0., 0., 0., 2., 2., 2., 2., 0., 3., 1., 0., 0., 2., 2., 2., 0., 0.,\n",
       "        1., 3., 0., 3., 1., 1., 1., 0., 3., 1., 3., 1., 0., 2., 2., 0., 3., 1.,\n",
       "        0., 3., 1., 0., 2., 0., 0., 1., 1., 0., 2., 3., 2., 1., 1., 1., 0., 1.,\n",
       "        3., 0., 3., 3., 2., 2., 2., 0., 3., 0., 1., 0., 1., 3., 2., 3., 2., 2.,\n",
       "        2., 3., 1., 1., 3., 3., 1., 2., 3., 2., 3., 2., 1., 1., 0., 3., 1., 0.,\n",
       "        2., 2., 2., 2., 0., 0., 1., 0., 2., 2., 3., 0., 1., 3., 0., 0., 3., 2.,\n",
       "        3., 2., 0., 3., 3., 1., 0., 3., 2., 2., 0., 0., 3., 3., 3., 0., 1., 0.,\n",
       "        3., 0., 2., 3., 3., 1., 0., 2., 0., 0., 0., 0., 3., 2., 3., 0., 3., 3.,\n",
       "        3., 3., 1., 1., 3., 1., 3., 1., 3., 1., 3., 2., 2., 1., 1., 0., 1., 3.,\n",
       "        3., 1., 0., 3., 3., 3., 3., 1., 3., 1., 1., 3., 1., 1., 0., 3., 1., 1.,\n",
       "        1., 3., 2., 0., 2., 0., 0., 3., 1., 3., 2., 0., 3., 3., 2., 3., 1., 1.,\n",
       "        0., 1., 1., 1., 1., 0., 3., 1., 3., 3., 1., 0., 2., 1., 3., 3., 3., 1.,\n",
       "        1., 1., 3., 2., 1., 0., 3., 1., 3., 1., 1., 0., 2., 2., 0., 0., 2., 3.,\n",
       "        3., 2., 3., 1., 3., 3., 2., 2., 2., 1., 0., 2., 3., 2., 0., 3., 0., 3.,\n",
       "        2., 2., 3., 3., 3., 2., 0., 0., 3., 1., 3., 2., 3., 2., 3., 1., 1., 1.,\n",
       "        1., 0., 1., 3., 1., 0., 0., 0., 3., 1., 3., 1., 0., 3., 2., 3., 1., 0.,\n",
       "        0., 0., 3., 3., 2., 3., 0., 0., 1., 1., 3., 1., 1., 0., 0., 3., 2., 3.,\n",
       "        3., 2., 2., 2., 2., 2., 3., 2., 2., 2., 0., 1., 1., 3., 2., 2., 3., 2.,\n",
       "        2., 2., 0., 2., 2., 3., 2., 0., 0., 3., 2., 2., 0., 3., 1., 0., 3., 2.,\n",
       "        2., 2., 2., 2., 3., 2., 2., 0., 3., 3., 3., 1., 1., 1., 1., 1., 3., 3.,\n",
       "        3., 2., 1., 3., 2., 1., 3., 2., 3., 3., 1., 3., 1., 0., 3., 2., 0., 3.,\n",
       "        0., 2., 0., 2., 3., 3., 1., 3., 1., 0., 3., 2., 0., 2., 0., 3., 1., 3.,\n",
       "        2., 2., 3., 3., 2., 3., 3., 3., 0., 0., 0., 0., 2., 3., 2., 3., 2., 3.,\n",
       "        2., 0., 1., 0., 1., 1., 3., 1., 1., 1., 1., 1., 3., 2., 1., 1., 0., 3.,\n",
       "        3., 1., 1., 0., 2., 1., 1., 0., 3., 2., 3., 0., 0., 2., 0., 1., 0., 3.,\n",
       "        2., 1., 1., 3., 2., 1., 3., 3., 1., 1., 1., 1., 3., 3., 1., 1., 2., 1.,\n",
       "        3., 3., 1., 3., 2., 1., 1., 0., 3., 2., 0., 0., 3., 0., 3., 0., 0., 2.,\n",
       "        3., 3., 3., 1., 1., 3., 2., 0., 2., 2., 1., 3., 3., 1., 1., 1., 1., 0.,\n",
       "        2., 2., 0., 2., 1., 1., 2., 0., 2., 1., 0., 2., 0., 3., 3., 1., 1., 0.,\n",
       "        2., 1., 0., 3., 1., 0., 3., 2., 1., 3., 3., 3., 1., 1., 2., 3., 0., 1.,\n",
       "        0., 2., 1., 1., 3., 2., 1., 0., 2., 0., 0., 1., 3., 2., 3., 2., 0., 2.,\n",
       "        1., 1., 0., 0., 3., 3., 0., 2., 0., 1., 1., 3., 3., 3., 3., 3., 1., 3.,\n",
       "        3., 3., 0., 3., 0., 0., 0., 3., 3., 0., 1., 1., 1., 0., 2., 3., 2., 3.,\n",
       "        1., 3., 2., 2., 3., 0., 3., 3., 3., 3., 3., 3., 3., 0., 3., 0., 2., 1.,\n",
       "        0., 2., 3., 2., 2., 1., 0., 0., 0., 0., 1., 2., 2., 0., 1., 3., 0., 0.,\n",
       "        3., 0., 1., 0., 2., 2., 3., 2., 0., 1., 0., 3., 3., 3., 3., 1., 0., 2.,\n",
       "        1., 0., 3., 1., 3., 1., 1., 0., 2., 1., 1., 3., 2., 2., 1., 3., 1., 3.,\n",
       "        1., 3., 1., 3., 2., 1., 0., 2., 3., 2., 3., 1., 3., 2., 1., 0., 3., 2.,\n",
       "        2., 0., 2., 3., 1., 3., 3., 2., 2., 0., 2., 0., 0., 0., 1., 0., 1., 3.,\n",
       "        2., 0., 1., 0., 3., 2., 3., 1., 1., 0., 3., 3., 1., 1., 1., 0., 2., 2.,\n",
       "        3., 3., 2., 3., 2., 2., 3., 0., 2., 3., 3., 2., 2., 3., 2., 3., 3., 2.,\n",
       "        3., 2., 2., 3., 2., 2., 1., 1., 1., 3.], device='cuda:0')"
      ]
     },
     "execution_count": 40,
     "metadata": {},
     "output_type": "execute_result"
    }
   ],
   "source": [
    "real_data[0]"
   ]
  },
  {
   "cell_type": "code",
   "execution_count": null,
   "metadata": {},
   "outputs": [
    {
     "data": {
      "text/plain": [
       "torch.Size([1, 1000])"
      ]
     },
     "execution_count": 22,
     "metadata": {},
     "output_type": "execute_result"
    }
   ],
   "source": [
    "real_data.shape"
   ]
  },
  {
   "cell_type": "code",
   "execution_count": null,
   "metadata": {},
   "outputs": [],
   "source": [
    "l = nn.Linear(1,100)"
   ]
  },
  {
   "cell_type": "code",
   "execution_count": null,
   "metadata": {},
   "outputs": [],
   "source": [
    "noise = Variable(torch.randn((1000,1)))\n",
    "o = l(noise)"
   ]
  },
  {
   "cell_type": "code",
   "execution_count": null,
   "metadata": {},
   "outputs": [
    {
     "data": {
      "text/plain": [
       "torch.Size([1000, 100])"
      ]
     },
     "execution_count": 29,
     "metadata": {},
     "output_type": "execute_result"
    }
   ],
   "source": [
    "o.shape"
   ]
  },
  {
   "cell_type": "code",
   "execution_count": null,
   "metadata": {},
   "outputs": [
    {
     "data": {
      "text/plain": [
       "torch.Size([1000, 1])"
      ]
     },
     "execution_count": 30,
     "metadata": {},
     "output_type": "execute_result"
    }
   ],
   "source": [
    "noise.shape"
   ]
  },
  {
   "cell_type": "code",
   "execution_count": 157,
   "metadata": {},
   "outputs": [
    {
     "name": "stderr",
     "output_type": "stream",
     "text": [
      "C:\\Temp\\ipykernel_2300\\752960707.py:58: UserWarning: Implicit dimension choice for softmax has been deprecated. Change the call to include dim=X as an argument.\n",
      "  output = self.softmax(output)\n"
     ]
    }
   ],
   "source": [
    "noise = Variable(torch.randn((1,1000))).cuda()\n",
    "o = generator(noise)"
   ]
  },
  {
   "cell_type": "code",
   "execution_count": 159,
   "metadata": {},
   "outputs": [
    {
     "data": {
      "text/plain": [
       "[]"
      ]
     },
     "execution_count": 159,
     "metadata": {},
     "output_type": "execute_result"
    }
   ],
   "source": [
    "reverse_ohe_DNA(o)"
   ]
  },
  {
   "cell_type": "code",
   "execution_count": null,
   "metadata": {},
   "outputs": [
    {
     "data": {
      "text/plain": [
       "tensor([[0., 0., 0.,  ..., 0., 0., 0.],\n",
       "        [0., 0., 0.,  ..., 0., 0., 0.],\n",
       "        [0., 0., 0.,  ..., 0., 0., 0.],\n",
       "        [0., 0., 0.,  ..., 0., 0., 0.],\n",
       "        [0., 0., 0.,  ..., 0., 0., 0.]], grad_fn=<ToCopyBackward0>)"
      ]
     },
     "execution_count": 148,
     "metadata": {},
     "output_type": "execute_result"
    }
   ],
   "source": [
    "out = generator(noise)\n",
    "out.cpu()"
   ]
  },
  {
   "cell_type": "code",
   "execution_count": null,
   "metadata": {},
   "outputs": [],
   "source": [
    "out = out.cpu().detach().numpy()"
   ]
  },
  {
   "cell_type": "code",
   "execution_count": null,
   "metadata": {},
   "outputs": [
    {
     "data": {
      "text/plain": [
       "-6.0168753"
      ]
     },
     "execution_count": 42,
     "metadata": {},
     "output_type": "execute_result"
    }
   ],
   "source": []
  },
  {
   "cell_type": "code",
   "execution_count": null,
   "metadata": {},
   "outputs": [],
   "source": [
    "one = next(iter(dataloader))"
   ]
  },
  {
   "cell_type": "code",
   "execution_count": null,
   "metadata": {},
   "outputs": [
    {
     "data": {
      "text/plain": [
       "tensor([3., 2., 1., 0., 0., 3., 3., 0., 3., 0., 0., 3., 3., 3., 1., 0., 3., 0.,\n",
       "        2., 0., 3., 2., 2., 0., 0., 0., 2., 3., 0., 0., 0., 0., 1., 0., 0., 0.,\n",
       "        3., 3., 3., 3., 3., 3., 3., 0., 0., 0., 0., 0., 2., 0., 0., 2., 0., 0.,\n",
       "        2., 2., 0., 0., 0., 3., 0., 0., 0., 0., 3., 0., 0., 3., 0., 1., 0., 3.,\n",
       "        0., 0., 0., 3., 2., 2., 2., 3., 2., 0., 3., 1., 3., 2., 2., 2., 1., 3.,\n",
       "        2., 0., 3., 3., 1., 3., 2., 3., 2., 0., 3., 3., 3., 3., 3., 3., 3., 1.,\n",
       "        3., 3., 1., 3., 1., 3., 3., 3., 1., 3., 2., 3., 3., 1., 3., 3., 3., 1.,\n",
       "        1., 0., 2., 0., 2., 3., 3., 3., 1., 3., 0., 3., 0., 0., 3., 0., 0., 0.,\n",
       "        2., 0., 3., 3., 0., 3., 3., 3., 0., 2., 3., 3., 2., 0., 2., 2., 2., 2.,\n",
       "        0., 2., 2., 2., 0., 1., 0., 0., 0., 3., 3., 3., 2., 3., 0., 2., 3., 3.,\n",
       "        3., 1., 1., 0., 0., 1., 3., 0., 0., 0., 1., 0., 0., 0., 0., 3., 0., 0.,\n",
       "        2., 3., 2., 3., 2., 1., 0., 3., 3., 0., 0., 0., 0., 2., 0., 1., 0., 0.,\n",
       "        0., 0., 3., 1., 0., 0., 2., 3., 1., 0., 3., 3., 3., 3., 3., 1., 2., 2.,\n",
       "        0., 3., 3., 3., 3., 3., 0., 1., 3., 0., 0., 3., 2., 1., 1., 3., 3., 3.,\n",
       "        0., 0., 0., 3., 0., 2., 1., 1., 1., 0., 0., 0., 0., 2., 3., 3., 2., 0.,\n",
       "        0., 1., 1., 0., 2., 0., 2., 2., 1., 1., 1., 0., 1., 3., 3., 3., 2., 1.,\n",
       "        1., 0., 2., 0., 2., 0., 0., 3., 1., 3., 2., 3., 1., 1., 0., 1., 0., 2.,\n",
       "        1., 1., 0., 2., 2., 1., 0., 2., 2., 2., 1., 3., 2., 1., 3., 0., 2., 2.,\n",
       "        2., 1., 1., 1., 0., 2., 3., 1., 3., 2., 1., 1., 3., 2., 1., 3., 3., 3.,\n",
       "        1., 3., 2., 3., 0., 0., 3., 3., 2., 2., 0., 2., 2., 1., 3., 3., 1., 1.,\n",
       "        1., 1., 3., 1., 1., 1., 0., 1., 0., 3., 3., 1., 3., 3., 1., 1., 2., 1.,\n",
       "        0., 2., 0., 2., 2., 1., 3., 3., 1., 1., 0., 1., 2., 3., 2., 1., 1., 0.,\n",
       "        2., 1., 0., 1., 0., 1., 0., 1., 0., 1., 0., 2., 2., 0., 2., 0., 1., 0.,\n",
       "        2., 1., 3., 2., 3., 2., 2., 3., 1., 1., 3., 2., 1., 1., 3., 1., 1., 0.,\n",
       "        2., 1., 0., 1., 0., 2., 3., 2., 3., 2., 2., 1., 2., 0., 2., 0., 2., 0.,\n",
       "        0., 2., 1., 0., 3., 2., 3., 0., 0., 1., 3., 3., 1., 3., 3., 2., 0., 0.,\n",
       "        2., 2., 0., 0., 3., 2., 1., 1., 1., 0., 1., 3., 0., 3., 2., 3., 2., 1.,\n",
       "        1., 0., 2., 2., 1., 0., 1., 3., 2., 3., 2., 1., 0., 0., 2., 2., 3., 0.,\n",
       "        1., 3., 3., 3., 2., 2., 0., 3., 3., 1., 0., 3., 0., 0., 1., 1., 1., 0.,\n",
       "        3., 3., 3., 0., 3., 3., 1., 1., 1., 1., 0., 1., 0., 0., 3., 0., 3., 0.,\n",
       "        0., 2., 2., 3., 2., 0., 2., 3., 2., 1., 3., 0., 3., 0., 3., 1., 1., 1.,\n",
       "        1., 0., 3., 3., 3., 3., 0., 1., 3., 2., 0., 3., 0., 0., 2., 0., 0., 1.,\n",
       "        0., 1., 2., 2., 0., 2., 2., 3., 3., 1., 0., 0., 0., 2., 2., 0., 0., 3.,\n",
       "        3., 0., 0., 2., 1., 3., 1., 0., 2., 0., 0., 0., 2., 1., 0., 2., 0., 0.,\n",
       "        3., 3., 3., 3., 0., 0., 1., 1., 1., 0., 0., 1., 3., 3., 3., 0., 3., 3.,\n",
       "        3., 2., 0., 3., 3., 1., 1., 0., 0., 0., 2., 1., 0., 2., 0., 0., 0., 3.,\n",
       "        3., 2., 0., 0., 0., 3., 3., 3., 3., 0., 0., 1., 1., 1., 2., 3., 1., 3.,\n",
       "        0., 3., 3., 3., 2., 3., 3., 3., 1., 1., 0., 0., 0., 0., 1., 3., 1., 3.,\n",
       "        3., 0., 0., 2., 1., 0., 3., 3., 0., 3., 0., 3., 3., 0., 3., 0., 1., 3.,\n",
       "        0., 3., 1., 3., 1., 1., 3., 1., 0., 1., 0., 3., 3., 3., 0., 0., 0., 0.,\n",
       "        3., 0., 0., 3., 3., 2., 1., 3., 0., 3., 3., 0., 0., 0., 1., 0., 2., 3.,\n",
       "        2., 0., 2., 1., 2., 1., 3., 2., 3., 2., 0., 0., 2., 2., 0., 2., 2., 1.,\n",
       "        0., 3., 0., 3., 0., 0., 3., 1., 3., 2., 0., 0., 3., 2., 1., 1., 0., 2.,\n",
       "        2., 0., 0., 0., 2., 2., 0., 2., 3., 1., 0., 3., 3., 0., 0., 2., 3., 3.,\n",
       "        1., 3., 3., 3., 3., 2., 2., 2., 0., 2., 0., 2., 2., 2., 2., 0., 0., 0.,\n",
       "        0., 1., 1., 0., 2., 2., 2., 0., 0., 0., 2., 1., 3., 3., 1., 1., 0., 2.,\n",
       "        2., 0., 0., 2., 0., 2., 2., 3., 2., 0., 1., 0., 1., 3., 3., 2., 0., 0.,\n",
       "        1., 3., 2., 0., 2., 1., 3., 3., 3., 2., 0., 0., 0., 2., 0., 3., 2., 0.,\n",
       "        3., 3., 0., 0., 2., 0., 0., 3., 3., 3., 0., 3., 1., 0., 2., 0., 0., 1.,\n",
       "        0., 3., 0., 2., 1., 0., 3., 0., 3., 0., 0., 1., 1., 3., 2., 0., 1., 0.,\n",
       "        2., 0., 2., 1., 0., 2., 0., 3., 0., 2., 0., 3., 2., 3., 3., 1., 0., 2.,\n",
       "        3., 0., 0., 3., 3., 3., 3., 3., 0., 0., 3., 3., 0., 0., 0., 3., 1., 0.,\n",
       "        0., 1., 3., 0., 0., 3., 0., 0., 0., 2., 0., 3., 0., 2., 3., 0., 0., 1.,\n",
       "        0., 3., 3., 3., 0., 1., 0., 2., 0., 3., 2., 0., 0., 0., 3., 0., 0., 3.,\n",
       "        0., 3., 2., 0., 0., 2., 3., 3., 3., 2., 0., 2., 0., 3., 3., 3., 2., 1.,\n",
       "        3., 3., 1., 0., 3., 0., 0., 3., 0., 0.])"
      ]
     },
     "execution_count": 50,
     "metadata": {},
     "output_type": "execute_result"
    }
   ],
   "source": [
    "one[0]"
   ]
  },
  {
   "cell_type": "code",
   "execution_count": 151,
   "metadata": {},
   "outputs": [
    {
     "name": "stderr",
     "output_type": "stream",
     "text": [
      "C:\\Temp\\ipykernel_2300\\752960707.py:58: UserWarning: Implicit dimension choice for softmax has been deprecated. Change the call to include dim=X as an argument.\n",
      "  output = self.softmax(output)\n"
     ]
    },
    {
     "data": {
      "text/plain": [
       "(array([734.,   0.,   0.,   0.,   0.,   0.,   0.,   0.,   0., 266.]),\n",
       " array([0.        , 0.1       , 0.2       , 0.30000001, 0.40000001,\n",
       "        0.5       , 0.60000002, 0.69999999, 0.80000001, 0.89999998,\n",
       "        1.        ]),\n",
       " <BarContainer object of 10 artists>)"
      ]
     },
     "execution_count": 151,
     "metadata": {},
     "output_type": "execute_result"
    },
    {
     "data": {
      "image/png": "[encoded data removed]",
      "text/plain": [
       "<Figure size 640x480 with 1 Axes>"
      ]
     },
     "metadata": {},
     "output_type": "display_data"
    }
   ],
   "source": [
    "code = []\n",
    "noise = Variable(torch.randn((1,1000))).cuda()\n",
    "out = generator(noise)\n",
    "out = out.cpu().detach().numpy()\n",
    "for i in out[0]:\n",
    "    if i > 4:\n",
    "        code.append(4)\n",
    "    elif i < 0:\n",
    "        code.append(0)\n",
    "    else:\n",
    "        code.append(np.round(i))\n",
    "plt.hist(code)"
   ]
  },
  {
   "cell_type": "code",
   "execution_count": null,
   "metadata": {},
   "outputs": [
    {
     "data": {
      "text/plain": [
       "(array([367.,   0.,   0., 179.,   0.,   0., 191.,   0.,   0., 263.]),\n",
       " array([0.        , 0.30000001, 0.60000002, 0.89999998, 1.20000005,\n",
       "        1.5       , 1.79999995, 2.0999999 , 2.4000001 , 2.70000005,\n",
       "        3.        ]),\n",
       " <BarContainer object of 10 artists>)"
      ]
     },
     "execution_count": 113,
     "metadata": {},
     "output_type": "execute_result"
    },
    {
     "data": {
      "image/png": "[encoded data removed]",
      "text/plain": [
       "<Figure size 640x480 with 1 Axes>"
      ]
     },
     "metadata": {},
     "output_type": "display_data"
    }
   ],
   "source": [
    "plt.hist(next(iter(dataloader))[0])"
   ]
  },
  {
   "cell_type": "code",
   "execution_count": null,
   "metadata": {},
   "outputs": [],
   "source": [
    "layer = nn.Linear(100,1)"
   ]
  },
  {
   "cell_type": "code",
   "execution_count": null,
   "metadata": {},
   "outputs": [
    {
     "data": {
      "text/plain": [
       "torch.Size([1000, 1])"
      ]
     },
     "execution_count": 28,
     "metadata": {},
     "output_type": "execute_result"
    }
   ],
   "source": [
    "noise = torch.randn(1000, 100)\n",
    "layer(noise).shape"
   ]
  },
  {
   "cell_type": "code",
   "execution_count": null,
   "metadata": {},
   "outputs": [],
   "source": [
    "class Generator_new(nn.Module):\n",
    "    def __init__(self,  latent_vars, gen_dim, max_seq_len, annotated=False, res_layers=5):\n",
    "        super(Generator_new, self).__init__()\n",
    "        self.input_size = latent_vars.shape\n",
    "        self.output_size = gen_dim * max_seq_len\n",
    "        self.seq_len = max_seq_len\n",
    "        self.gen_dim = gen_dim\n",
    "        self.res_layer = res_layers\n",
    "        #self.conv1 = nn.Conv1d(3,6,5,1)\n",
    "        self.conv1 = nn.Sequential(\n",
    "                        nn.Conv1d(1,gen_dim,5,1, padding = 'same'),\n",
    "                        nn.ReLU())\n",
    "        self.con1 = nn.Conv1d(gen_dim ,gen_dim,5,1, padding = 'same')\n",
    "        self.con2 = nn.Conv1d(gen_dim ,gen_dim,5,1, padding = 'same')\n",
    "        self.con3 = nn.Conv1d(gen_dim ,gen_dim,5,1, padding = 'same')\n",
    "        self.con4 = nn.Conv1d(gen_dim ,gen_dim,5,1, padding = 'same')\n",
    "        self.con5 = nn.Conv1d(gen_dim ,gen_dim,5,1, padding = 'same')\n",
    "        self.conv2 = nn.Sequential(\n",
    "                        nn.Conv1d(gen_dim,1,5,1, padding = 'same'),\n",
    "                        nn.ReLU(),\n",
    "                        nn.Softmax())\n",
    "        # self.con_array = [\n",
    "        #     self.con1,\n",
    "        #     self.con2,\n",
    "        #     self.con3,\n",
    "        #     self.con4,\n",
    "        #     self.con5,\n",
    "        # ]\n",
    "        self.relu = nn.ReLU()\n",
    "        self.sigmoid = nn.Softmax()#nn.Sigmoid()\n",
    "        self.linear = nn.Linear(100,1)\n",
    "        \n",
    "\n",
    "    def forward(self,x):\n",
    "        _input = self.conv1(x)#torch.reshape(x,(-1,self.gen_dim,self.seq_len))     \n",
    "        \n",
    "        out = self.con1(_input)\n",
    "        out = self.relu(out)\n",
    "        out = _input + 0.3 * out\n",
    "        _input = out\n",
    "\n",
    "        out = self.con1(_input)\n",
    "        out = self.relu(out)\n",
    "        out = _input + 0.3 * out\n",
    "        _input = out\n",
    "\n",
    "        out = self.con2(_input)\n",
    "        out = self.relu(out)\n",
    "        out = _input + 0.3 * out\n",
    "        _input = out\n",
    "\n",
    "        out = self.con3(_input)\n",
    "        out = self.relu(out)\n",
    "        out = _input + 0.3 * out\n",
    "        _input = out\n",
    "\n",
    "        out = self.con4(_input)\n",
    "        out = self.relu(out)\n",
    "        out = _input + 0.3 * out\n",
    "        _input = out\n",
    "\n",
    "        out = self.con5(_input)\n",
    "        out = self.relu(out)\n",
    "        out = self.sigmoid(_input + 0.3 * out)  \n",
    "        # for i in range(self.res_layer):\n",
    "        #     output = self.res_block(_input.float(),i, 0.3)\n",
    "        #     _input = output\n",
    "        #output = self.conv2(out)\n",
    "        output = torch.transpose(out, 0, 1)\n",
    "        output = self.linear(output) \n",
    "        return torch.transpose(output, 0, 1)\n",
    "    \n",
    "    def res_block(self,_input, index, downsample = 0):\n",
    "        res = _input\n",
    "        out = self.con_array[index](res)\n",
    "        out = self.relu(out)\n",
    "        if downsample:\n",
    "            res = res * downsample\n",
    "            out = out + res\n",
    "        return out\n",
    "\n",
    "        \n",
    "class Critical_new(nn.Module):\n",
    "    def __init__(self,  latent_vars, gen_dim, max_seq_len, annotated=False, res_layers=5):\n",
    "        super(Critical_new, self).__init__()\n",
    "        self.input_size = latent_vars.shape\n",
    "        self.output_size = gen_dim * max_seq_len\n",
    "        self.seq_len = max_seq_len\n",
    "        self.gen_dim = gen_dim\n",
    "        self.res_layer = res_layers\n",
    "        #self.conv1 = nn.Conv1d(3,6,5,1)\n",
    "        self.conv1 = nn.Conv1d(gen_dim,1,5,1, padding = 'same')\n",
    "        self.con1 = nn.Conv1d(gen_dim ,gen_dim,5,1, padding = 'same')\n",
    "        self.con2 = nn.Conv1d(gen_dim ,gen_dim,5,1, padding = 'same')\n",
    "        self.con3 = nn.Conv1d(gen_dim ,gen_dim,5,1, padding = 'same')\n",
    "        self.con4 = nn.Conv1d(gen_dim ,gen_dim,5,1, padding = 'same')\n",
    "        self.con5 = nn.Conv1d(gen_dim ,gen_dim,5,1, padding = 'same')\n",
    "        self.conv2 = nn.Sequential(\n",
    "                        nn.Conv1d(1, gen_dim,5,1, padding = 'same'),\n",
    "                        nn.ReLU())\n",
    "        # self.con_array = [\n",
    "        #     self.con1,\n",
    "        #     self.con2,\n",
    "        #     self.con3,\n",
    "        #     self.con4,\n",
    "        #     self.con5,\n",
    "        # ]\n",
    "        self.relu = nn.ReLU()\n",
    "        # self.sigmoid = nn.Sigmoid()\n",
    "\n",
    "\n",
    "    def forward(self,x):\n",
    "        \n",
    "        _input = x\n",
    "        out = self.conv2(_input)\n",
    "        \n",
    "        out = self.con1(out)\n",
    "        out = self.relu(out)\n",
    "        out = _input + 0.3 * out\n",
    "        _input = out\n",
    "\n",
    "        out = self.con1(_input)\n",
    "        out = self.relu(out)\n",
    "        out = _input + 0.3 * out\n",
    "        _input = out\n",
    "\n",
    "        out = self.con2(_input)\n",
    "        out = self.relu(out)\n",
    "        out = _input + 0.3 * out\n",
    "        _input = out\n",
    "\n",
    "        out = self.con3(_input)\n",
    "        out = self.relu(out)\n",
    "        out = _input + 0.3 * out\n",
    "        _input = out\n",
    "\n",
    "        out = self.con4(_input)\n",
    "        out = self.relu(out)\n",
    "        out = _input + 0.3 * out\n",
    "        _input = out\n",
    "\n",
    "        out = self.con5(_input)\n",
    "        out = self.relu(out)\n",
    "        out = _input + 0.3 * out\n",
    "        # for i in range(self.res_layer):\n",
    "        #     output = self.res_block(_input.float(),i, 0.3)\n",
    "        #     _input = output\n",
    "        # #output = torch.reshape(output,(-1,1))\n",
    "\n",
    "        out = self.conv1(out)\n",
    "        return out #self.sigmoid(output)\n"
   ]
  }
 ],
 "metadata": {
  "kernelspec": {
   "display_name": "GAN",
   "language": "python",
   "name": "python3"
  },
  "language_info": {
   "codemirror_mode": {
    "name": "ipython",
    "version": 3
   },
   "file_extension": ".py",
   "mimetype": "text/x-python",
   "name": "python",
   "nbconvert_exporter": "python",
   "pygments_lexer": "ipython3",
   "version": "3.11.4"
  },
  "orig_nbformat": 4
 },
 "nbformat": 4,
 "nbformat_minor": 2
}
