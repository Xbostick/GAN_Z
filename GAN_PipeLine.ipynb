{
 "cells": [
  {
   "cell_type": "markdown",
   "metadata": {},
   "source": [
    "# Import"
   ]
  },
  {
   "cell_type": "code",
   "execution_count": 1,
   "metadata": {},
   "outputs": [],
   "source": [
    "import numpy as np\n",
    "import pandas as pd\n",
    "from Bio import SeqIO\n",
    "\n",
    "import torchvision.transforms as transforms\n",
    "\n",
    "from torch.utils.data import DataLoader,Dataset\n",
    "from torchvision import datasets\n",
    "from torch.autograd import Variable \n",
    "\n",
    "import torch.nn as nn\n",
    "import torch.nn.functional as F\n",
    "import torch\n",
    "from torch.autograd import Variable\n",
    "import torch.autograd as autograd\n",
    "\n",
    "from pathlib import Path\n",
    "import wandb\n",
    "\n",
    "import time\n",
    "_wandb = True\n",
    "Load = True"
   ]
  },
  {
   "cell_type": "code",
   "execution_count": null,
   "metadata": {},
   "outputs": [
    {
     "name": "stderr",
     "output_type": "stream",
     "text": [
      "Failed to detect the name of this notebook, you can set it manually with the WANDB_NOTEBOOK_NAME environment variable to enable code saving.\n",
      "\u001b[34m\u001b[1mwandb\u001b[0m: Currently logged in as: \u001b[33mxbostick\u001b[0m. Use \u001b[1m`wandb login --relogin`\u001b[0m to force relogin\n"
     ]
    },
    {
     "data": {
      "text/html": [
       "wandb version 0.15.9 is available!  To upgrade, please run:\n",
       " $ pip install wandb --upgrade"
      ],
      "text/plain": [
       "<IPython.core.display.HTML object>"
      ]
     },
     "metadata": {},
     "output_type": "display_data"
    },
    {
     "data": {
      "text/html": [
       "Tracking run with wandb version 0.15.8"
      ],
      "text/plain": [
       "<IPython.core.display.HTML object>"
      ]
     },
     "metadata": {},
     "output_type": "display_data"
    },
    {
     "data": {
      "text/html": [
       "Run data is saved locally in <code>c:\\work\\GAN_Z\\wandb\\run-20230904_191722-7kgq1l70</code>"
      ],
      "text/plain": [
       "<IPython.core.display.HTML object>"
      ]
     },
     "metadata": {},
     "output_type": "display_data"
    },
    {
     "data": {
      "text/html": [
       "Syncing run <strong><a href='https://wandb.ai/xbostick/GAN-Z/runs/7kgq1l70' target=\"_blank\">valiant-sky-33</a></strong> to <a href='https://wandb.ai/xbostick/GAN-Z' target=\"_blank\">Weights & Biases</a> (<a href='https://wandb.me/run' target=\"_blank\">docs</a>)<br/>"
      ],
      "text/plain": [
       "<IPython.core.display.HTML object>"
      ]
     },
     "metadata": {},
     "output_type": "display_data"
    },
    {
     "data": {
      "text/html": [
       " View project at <a href='https://wandb.ai/xbostick/GAN-Z' target=\"_blank\">https://wandb.ai/xbostick/GAN-Z</a>"
      ],
      "text/plain": [
       "<IPython.core.display.HTML object>"
      ]
     },
     "metadata": {},
     "output_type": "display_data"
    },
    {
     "data": {
      "text/html": [
       " View run at <a href='https://wandb.ai/xbostick/GAN-Z/runs/7kgq1l70' target=\"_blank\">https://wandb.ai/xbostick/GAN-Z/runs/7kgq1l70</a>"
      ],
      "text/plain": [
       "<IPython.core.display.HTML object>"
      ]
     },
     "metadata": {},
     "output_type": "display_data"
    }
   ],
   "source": [
    "if _wandb:\n",
    "    wandb.login()\n",
    "    wandb.init(\n",
    "        # set the wandb project where this run will be logged\n",
    "        project=\"GAN-Z\",\n",
    "        \n",
    "        # track hyperparameters and run metadata\n",
    "        config={\n",
    "        \"learning_rate\": 0.02,\n",
    "        \"architecture\": \"GAN\",\n",
    "        \"dataset\": \"chr1\",\n",
    "        \"epochs\": 300,\n",
    "        }\n",
    "\n",
    "    )\n"
   ]
  },
  {
   "cell_type": "code",
   "execution_count": 2,
   "metadata": {},
   "outputs": [],
   "source": [
    "cuda = True if torch.cuda.is_available() else False # GPU Setting"
   ]
  },
  {
   "cell_type": "markdown",
   "metadata": {},
   "source": [
    "# Setting parametrs"
   ]
  },
  {
   "cell_type": "code",
   "execution_count": 3,
   "metadata": {},
   "outputs": [],
   "source": [
    "generic = False # Generate generic data on the fly (ignores data_loc and data_start args)\n",
    "data_loc = Path(\"./data/\") # Data location\n",
    "epoch = 300\n",
    "disc_iters = 5 # Number of iterations to train discriminator for at each epoch\n",
    "latent_dim = 5 # Size of latent space\n",
    "gen_dim = 100 # Generator dimension parameter\n",
    "disc_dim = 100 # Discriminator dimension parameter\n",
    "gen_layers = 5\n",
    "disc_layer = 5\n",
    "batch_size = 100\n",
    "max_seq_len = 1000"
   ]
  },
  {
   "cell_type": "markdown",
   "metadata": {},
   "source": [
    " gen_data = lib.models.resnet_generator(latent_vars, args.gen_dim, args.max_seq_len, data_enc_dim, args.annotate)\n",
    "  data_enc_dim = 4"
   ]
  },
  {
   "cell_type": "markdown",
   "metadata": {},
   "source": [
    "# Preparing DATASET"
   ]
  },
  {
   "cell_type": "code",
   "execution_count": 4,
   "metadata": {},
   "outputs": [],
   "source": [
    "def ohe_DNA(part):\n",
    "    seq = []\n",
    "    for i in part:\n",
    "        match i:\n",
    "                case 0:\n",
    "                    seq.append([1,0,0,0,0])\n",
    "                case 1:\n",
    "                    seq.append([0,1,0,0,0])\n",
    "                case 2:\n",
    "                    seq.append([0,0,1,0,0])\n",
    "                case 3:\n",
    "                    seq.append([0,0,0,1,0])\n",
    "                case 4:\n",
    "                    seq.append([0,0,0,0,1])\n",
    "    return seq"
   ]
  },
  {
   "cell_type": "code",
   "execution_count": 5,
   "metadata": {},
   "outputs": [],
   "source": [
    "def reverse_ohe_DNA(part):\n",
    "    seq = []\n",
    "    for i in part:\n",
    "        match i:\n",
    "                case [1,0,0,0,0]:\n",
    "                    seq.append(0)\n",
    "                case [0,1,0,0,0]:\n",
    "                    seq.append(1)\n",
    "                case [0,0,1,0,0]:\n",
    "                    seq.append(2)\n",
    "                case [0,0,0,1,0]:\n",
    "                    seq.append(3)\n",
    "                case [0,0,0,0,1]:\n",
    "                    seq.append(4)\n",
    "    return seq"
   ]
  },
  {
   "cell_type": "code",
   "execution_count": 6,
   "metadata": {},
   "outputs": [],
   "source": [
    "dna_vocab = {\"A\":0,\n",
    "             \"C\":1,\n",
    "             \"G\":2,\n",
    "             \"T\":3,\n",
    "             \"N\":4} # catch-all auxiliary token\n",
    "\n",
    "class GenomicData(Dataset):\n",
    "    def __init__(self, path, seq_len):\n",
    "        self.seq_len = seq_len\n",
    "        with open(path) as fasta_file:  # Will close handle cleanly\n",
    "            seq_record = {}\n",
    "            seq_record[\"lengths\"] = []\n",
    "            seq_record[\"seq\"] = []\n",
    "\n",
    "            for seq_rec in SeqIO.parse(fasta_file, 'fasta'):  # (generator)\n",
    "                seq_record[\"lengths\"].append(len(seq_rec.seq))\n",
    "                seq_record[\"seq\"].append(seq_rec.seq)\n",
    "        self.len = int(seq_record[\"lengths\"][0])\n",
    "        self.coded_seq = []\n",
    "        for one in list(seq_record[\"seq\"][0]):\n",
    "            try:\n",
    "                self.coded_seq.append(dna_vocab[one.upper()])\n",
    "            except:\n",
    "                print(one)\n",
    "\n",
    "    def __len__(self):\n",
    "        return int(self.len/self.seq_len)#int(np.round((self.len - self.seq_len)/100))\n",
    "    \n",
    "    def __getitem__(self, idx):\n",
    "        return torch.Tensor(ohe_DNA(self.coded_seq[idx* self.seq_len:(idx+1)*self.seq_len]))\n",
    "\n",
    "\n",
    "GenData = GenomicData(\"./data/chr1.fa\", max_seq_len)"
   ]
  },
  {
   "cell_type": "code",
   "execution_count": 9,
   "metadata": {},
   "outputs": [
    {
     "data": {
      "text/plain": [
       "torch.Size([1000, 5])"
      ]
     },
     "execution_count": 9,
     "metadata": {},
     "output_type": "execute_result"
    }
   ],
   "source": [
    "GenData[1].shape"
   ]
  },
  {
   "cell_type": "markdown",
   "metadata": {},
   "source": [
    "# Structure of NNs"
   ]
  },
  {
   "cell_type": "markdown",
   "metadata": {},
   "source": [
    "6 сверточных слоев с skip connection residual factor 0.3.\n",
    "В сверточном слое 100 фильтров ядро 5 stribe 1\n",
    "adam optimazer и wasserstein loss(WGAN) and lr 1e-5"
   ]
  },
  {
   "cell_type": "code",
   "execution_count": 7,
   "metadata": {},
   "outputs": [],
   "source": [
    "import torch.nn as nn\n",
    "import torch.functional as F"
   ]
  },
  {
   "cell_type": "code",
   "execution_count": 8,
   "metadata": {},
   "outputs": [],
   "source": [
    "class Generator_new(nn.Module):\n",
    "    def __init__(self,  latent_vars, gen_dim, max_seq_len, annotated=False, res_layers=5):\n",
    "        super(Generator_new, self).__init__()\n",
    "        self.input_size = latent_vars.shape\n",
    "        self.output_size = gen_dim * max_seq_len\n",
    "        self.seq_len = max_seq_len\n",
    "        self.gen_dim = gen_dim\n",
    "        self.res_layer = res_layers\n",
    "        #self.conv1 = nn.Conv1d(3,6,5,1)\n",
    "        self.con1 = nn.Conv1d(gen_dim ,gen_dim,5,1, padding = 'same')\n",
    "        self.con2 = nn.Conv1d(gen_dim ,gen_dim,5,1, padding = 'same')\n",
    "        self.con3 = nn.Conv1d(gen_dim ,gen_dim,5,1, padding = 'same')\n",
    "        self.con4 = nn.Conv1d(gen_dim ,gen_dim,5,1, padding = 'same')\n",
    "        self.con5 = nn.Conv1d(gen_dim ,gen_dim,5,1, padding = 'same')\n",
    "        self.conv1 = nn.Sequential(\n",
    "                        nn.Conv1d(gen_dim,5,5,1, padding = 'same'),\n",
    "                        nn.ReLU())\n",
    "        # self.con_array = [\n",
    "        #     self.con1,\n",
    "        #     self.con2,\n",
    "        #     self.con3,\n",
    "        #     self.con4,\n",
    "        #     self.con5,\n",
    "        # ]\n",
    "        self.relu = nn.ReLU()\n",
    "        self.softmax = nn.Softmax()#nn.Sigmoid()\n",
    "        self.linear = nn.Linear(1,100)\n",
    "        \n",
    "\n",
    "    def forward(self,x):\n",
    "        x = torch.transpose(x, 0, 1)\n",
    "        x = self.linear(x) \n",
    "        x = torch.transpose(x , 0, 1)\n",
    "        _input = x\n",
    "        \n",
    "        out = self.con1(_input)\n",
    "        out = _input + 0.3 * out\n",
    "        _input = self.relu(out)\n",
    "        \n",
    "        out = self.con2(_input)\n",
    "        out = _input + 0.3 * out\n",
    "        _input = self.relu(out)\n",
    "\n",
    "        out = self.con3(_input)\n",
    "        out = _input + 0.3 * out\n",
    "        _input = self.relu(out)\n",
    "\n",
    "        out = self.con4(_input)\n",
    "        out = _input + 0.3 * out\n",
    "        _input = self.relu(out)\n",
    "\n",
    "        out = self.con5(_input)\n",
    "        out = _input + 0.3 * out\n",
    "        _input = self.relu(out)\n",
    "\n",
    "        output = self.conv1(_input)\n",
    "        output = torch.transpose(output, 0, 1)\n",
    "        output = self.softmax(output)\n",
    "        output = torch.transpose(output, 0, 1)\n",
    "        return output"
   ]
  },
  {
   "cell_type": "code",
   "execution_count": 9,
   "metadata": {},
   "outputs": [],
   "source": [
    "class Critical_new(nn.Module):\n",
    "    def __init__(self,  latent_vars, gen_dim, max_seq_len, annotated=False, res_layers=5):\n",
    "        super(Critical_new, self).__init__()\n",
    "        self.input_size = latent_vars.shape\n",
    "        self.output_size = gen_dim * max_seq_len\n",
    "        self.seq_len = max_seq_len\n",
    "        self.gen_dim = gen_dim\n",
    "        self.res_layer = res_layers\n",
    "        #self.conv1 = nn.Conv1d(3,6,5,1)\n",
    "        self.con1 = nn.Conv1d(gen_dim ,gen_dim,5,1, padding = 'same')\n",
    "        self.con2 = nn.Conv1d(gen_dim ,gen_dim,5,1, padding = 'same')\n",
    "        self.con3 = nn.Conv1d(gen_dim ,gen_dim,5,1, padding = 'same')\n",
    "        self.con4 = nn.Conv1d(gen_dim ,gen_dim,5,1, padding = 'same')\n",
    "        self.con5 = nn.Conv1d(gen_dim ,gen_dim,5,1, padding = 'same')\n",
    "        self.conv1 = nn.Sequential(\n",
    "                        nn.Conv1d(5, gen_dim,5,1, padding = 'same'),\n",
    "                        nn.ReLU())\n",
    "        # self.con_array = [\n",
    "        #     self.con1,\n",
    "        #     self.con2,\n",
    "        #     self.con3,\n",
    "        #     self.con4,\n",
    "        #     self.con5,\n",
    "        # ]\n",
    "        self.relu = nn.ReLU()\n",
    "        self.linear = nn.Linear(100,1)\n",
    "        # self.sigmoid = nn.Sigmoid()\n",
    "\n",
    "\n",
    "    def forward(self,x):\n",
    "        _input = self.conv1(x)\n",
    "        \n",
    "        out = self.con1(_input)\n",
    "        out = _input + 0.3 * out\n",
    "        _input = self.relu(out)\n",
    "\n",
    "        out = self.con2(_input)\n",
    "        out = _input + 0.3 * out\n",
    "        _input = self.relu(out)\n",
    "\n",
    "        out = self.con3(_input)\n",
    "        out = _input + 0.3 * out\n",
    "        _input = self.relu(out)\n",
    "\n",
    "        out = self.con4(_input)\n",
    "        out = _input + 0.3 * out\n",
    "        _input = self.relu(out)\n",
    "\n",
    "        out = self.con5(_input)\n",
    "        out = _input + 0.3 * out\n",
    "        _input = self.relu(out)\n",
    "\n",
    "        output = torch.transpose(_input, 0, 1)\n",
    "        output = self.linear(output)\n",
    "        output = torch.transpose(output, 0, 1)\n",
    "        return output\n"
   ]
  },
  {
   "cell_type": "code",
   "execution_count": 10,
   "metadata": {},
   "outputs": [],
   "source": [
    "num_classes = 10\n",
    "num_epochs = 20\n",
    "batch_size = 16\n",
    "learning_rate = 0.01"
   ]
  },
  {
   "cell_type": "code",
   "execution_count": 11,
   "metadata": {},
   "outputs": [],
   "source": [
    "latent_vars = torch.randn([10,10])"
   ]
  },
  {
   "cell_type": "code",
   "execution_count": 12,
   "metadata": {},
   "outputs": [],
   "source": [
    "generator= Generator_new(latent_vars,gen_dim,max_seq_len)\n",
    "discriminator = Critical_new(latent_vars,gen_dim,max_seq_len)"
   ]
  },
  {
   "cell_type": "code",
   "execution_count": 220,
   "metadata": {},
   "outputs": [],
   "source": [
    "if Load:\n",
    "    generator.load_state_dict(torch.load(\"./models/generator.mod\"))\n",
    "    generator.eval()\n",
    "\n",
    "    discriminator.load_state_dict(torch.load(\"./models/discriminator.mod\"))\n",
    "    discriminator.eval()"
   ]
  },
  {
   "cell_type": "code",
   "execution_count": 17,
   "metadata": {},
   "outputs": [],
   "source": [
    "# generator.cuda()\n",
    "# out = generator(z)\n",
    "# discriminator.cuda()\n",
    "# discriminator(out).size()"
   ]
  },
  {
   "cell_type": "code",
   "execution_count": 14,
   "metadata": {},
   "outputs": [],
   "source": [
    "if cuda:\n",
    "    generator.cuda()\n",
    "    discriminator.cuda()\n",
    "    #adversarial_loss.cuda()"
   ]
  },
  {
   "cell_type": "markdown",
   "metadata": {},
   "source": [
    "_____"
   ]
  },
  {
   "cell_type": "code",
   "execution_count": 19,
   "metadata": {},
   "outputs": [],
   "source": [
    "# suggested default - beta parameters (decay of first order momentum of gradients)\n",
    "b1 = 0.5\n",
    "b2 = 0.999\n",
    "\n",
    "# suggested default - learning rate\n",
    "lr = 1e-4"
   ]
  },
  {
   "cell_type": "code",
   "execution_count": 20,
   "metadata": {},
   "outputs": [],
   "source": [
    "optimizer_G = torch.optim.Adam(generator.parameters(), lr=lr, betas = (b1,b2) )\n",
    "optimizer_D = torch.optim.Adam(discriminator.parameters(), lr=lr, betas = (b1,b2))"
   ]
  },
  {
   "cell_type": "markdown",
   "metadata": {},
   "source": [
    "____"
   ]
  },
  {
   "cell_type": "code",
   "execution_count": 73,
   "metadata": {},
   "outputs": [],
   "source": [
    "Tensor = torch.cuda.FloatTensor if cuda else torch.FloatTensor\n",
    "from tqdm.notebook import tqdm\n",
    "import matplotlib.pyplot as plt\n",
    "import matplotlib.gridspec as gridspec"
   ]
  },
  {
   "cell_type": "code",
   "execution_count": 22,
   "metadata": {},
   "outputs": [],
   "source": [
    "if _wandb:\n",
    "    wandb.watch(generator, log_freq=100)\n",
    "    wandb.watch(discriminator, log_freq=100)"
   ]
  },
  {
   "cell_type": "code",
   "execution_count": 23,
   "metadata": {},
   "outputs": [],
   "source": [
    "def reset_grad(model):\n",
    "    for param in model.parameters():\n",
    "        param.grad = None\n"
   ]
  },
  {
   "cell_type": "code",
   "execution_count": 24,
   "metadata": {},
   "outputs": [],
   "source": [
    "def compute_gradient_penalty(D, real_samples, fake_samples):\n",
    "    \"\"\"Calculates the gradient penalty loss for WGAN GP\"\"\"\n",
    "    # Random weight term for interpolation between real and fake samples\n",
    "    alpha = Tensor(np.random.random((real_samples.size(0), 1)))\n",
    "        # Get random interpolation between real and fake samples\n",
    "    interpolates = (alpha * real_samples + ((1 - alpha) * fake_samples))\n",
    "    d_interpolates = discriminator(interpolates)\n",
    "    fake = Variable(Tensor(1,1000).fill_(1.0), requires_grad=False)\n",
    "        # Get gradient w.r.t. interpolates\n",
    "    gradients = autograd.grad(\n",
    "            outputs=d_interpolates,\n",
    "            inputs=interpolates,\n",
    "            grad_outputs=fake,\n",
    "            create_graph=True,\n",
    "            retain_graph=True,\n",
    "            only_inputs=True,\n",
    "        )[0]\n",
    "    gradients = gradients.view(gradients.size(0), -1)\n",
    "    gradient_penalty = ((gradients.norm(2, dim=1) - 1) ** 2).mean()\n",
    "    return gradient_penalty"
   ]
  },
  {
   "cell_type": "code",
   "execution_count": 25,
   "metadata": {},
   "outputs": [],
   "source": [
    "def WandbLogging(LogData,StartTime, Delay):\n",
    "    NowTime = time.perf_counter()\n",
    "    if NowTime - StartTime > Delay:\n",
    "        wandb.log(LogData)\n",
    "        return NowTime\n",
    "    else:\n",
    "        return StartTime"
   ]
  },
  {
   "cell_type": "code",
   "execution_count": 26,
   "metadata": {},
   "outputs": [],
   "source": [
    "from IPython.display import clear_output"
   ]
  },
  {
   "cell_type": "code",
   "execution_count": null,
   "metadata": {},
   "outputs": [],
   "source": [
    "clear_output()\n",
    "n_epochs = 10 # suggested default = 200\n",
    "for epoch in range(n_epochs):\n",
    "    dataloader = None\n",
    "    dataloader = DataLoader(GenData,6,drop_last=True, shuffle = True)\n",
    "    StartTime = time.perf_counter()\n",
    "    for i in tqdm(dataloader):\n",
    "        train_data = i.cuda()\n",
    "        #   Critical forward-loss-backward-update\n",
    "        for j in range(5):\n",
    "\n",
    "            # Sample data\n",
    "            noise = Variable(torch.randn((1,1000))).cuda()# Random sampling Tensor(batch_size, latent_dim) of Gaussian distribution\n",
    "        \n",
    "            # real_data = torch.reshape(train_data[j],(1,1000))\n",
    "            real_data = torch.transpose(train_data[j],0,1)\n",
    "            real_data = Variable(real_data)\n",
    "\n",
    "            #generic\n",
    "            fake_data = generator(noise)\n",
    "            critics_real = discriminator(real_data)\n",
    "            critics_fake = discriminator(fake_data)\n",
    "\n",
    "            gradient_penalty = compute_gradient_penalty(discriminator, real_data, fake_data)\n",
    "            critics_loss = -torch.mean(critics_real) + torch.mean(critics_fake) + 10 * gradient_penalty\n",
    "            \n",
    "            critics_loss.backward()\n",
    "            optimizer_D.step()\n",
    "\n",
    "            # Weight clipping\n",
    "            for p in discriminator.parameters():\n",
    "                p.data.clamp_(-0.01, 0.01)\n",
    "\n",
    "            # Housekeeping - reset gradient\n",
    "            reset_grad(generator)\n",
    "            reset_grad(discriminator)\n",
    "\n",
    "        #   Generator forward-loss-backward-update\n",
    "        \n",
    "        noise = Variable(torch.randn((1,1000))).cuda()# Random sampling Tensor(batch_size, latent_dim) of Gaussian distribution\n",
    "        #real_data = torch.reshape(train_data[j+1],(1,1000))\n",
    "        real_data = Variable(real_data)\n",
    "        #real_data = imgs[\"generator\"].type(Tensor)\n",
    "\n",
    "        fake_data = generator(noise)\n",
    "        critics_fake = discriminator(fake_data)\n",
    "\n",
    "        generator_loss = -torch.mean(critics_fake)\n",
    "        \n",
    "        generator_loss.backward()\n",
    "        optimizer_G.step()\n",
    "\n",
    "        # Housekeeping - reset gradient\n",
    "        reset_grad(generator)\n",
    "        reset_grad(discriminator)\n",
    "\n",
    "        if _wandb:\n",
    "            table = wandb.Histogram(np_histogram = np.histogram(np.argmax(generator(noise).detach().cpu().numpy(),0)))\n",
    "            WandbLogDict = {\"Epoch\": epoch+1, \"Critics_loss\": critics_loss.item(), \"Generator_loss\": generator_loss.item(),\"Results\": table}\n",
    "            StartTime = WandbLogging(WandbLogDict, StartTime, 120)\n",
    "            \n",
    "\n",
    "    print('D_loss: {}; G_loss: {}'\n",
    "              .format(critics_loss.item(),  generator_loss.item()))\n"
   ]
  },
  {
   "cell_type": "code",
   "execution_count": 28,
   "metadata": {},
   "outputs": [
    {
     "data": {
      "text/html": [
       "Waiting for W&B process to finish... <strong style=\"color:green\">(success).</strong>"
      ],
      "text/plain": [
       "<IPython.core.display.HTML object>"
      ]
     },
     "metadata": {},
     "output_type": "display_data"
    },
    {
     "data": {
      "text/html": [
       "<style>\n",
       "    table.wandb td:nth-child(1) { padding: 0 10px; text-align: left ; width: auto;} td:nth-child(2) {text-align: left ; width: 100%}\n",
       "    .wandb-row { display: flex; flex-direction: row; flex-wrap: wrap; justify-content: flex-start; width: 100% }\n",
       "    .wandb-col { display: flex; flex-direction: column; flex-basis: 100%; flex: 1; padding: 10px; }\n",
       "    </style>\n",
       "<div class=\"wandb-row\"><div class=\"wandb-col\"><h3>Run history:</h3><br/><table class=\"wandb\"><tr><td>Critics_loss</td><td>█▁▁▁▁▁▁▁▁▁▁▁▁▁▂▁▁▁▁▁▁▁▁▁▁▁▁▁▁▁▁▁▁▁▁▁▁▁▁▁</td></tr><tr><td>Epoch</td><td>▁▁▁▁▁▁▁▁▁▁▁▁▁▁▁▅▅▅▅▅▅▅▅▅▅▅▅▅▅███████████</td></tr><tr><td>Generator_loss</td><td>█▇▁▄█▆▇▇▆▅▄▄▄▃▅▃▅▄▄▄▄▆▅▂▄▃▆▆▅▄▃▅▄▂▇▅▅▅▆▇</td></tr></table><br/></div><div class=\"wandb-col\"><h3>Run summary:</h3><br/><table class=\"wandb\"><tr><td>Critics_loss</td><td>-0.00391</td></tr><tr><td>Epoch</td><td>3</td></tr><tr><td>Generator_loss</td><td>-0.03669</td></tr></table><br/></div></div>"
      ],
      "text/plain": [
       "<IPython.core.display.HTML object>"
      ]
     },
     "metadata": {},
     "output_type": "display_data"
    },
    {
     "data": {
      "text/html": [
       " View run <strong style=\"color:#cdcd00\">valiant-sky-33</strong> at: <a href='https://wandb.ai/xbostick/GAN-Z/runs/7kgq1l70' target=\"_blank\">https://wandb.ai/xbostick/GAN-Z/runs/7kgq1l70</a><br/>Synced 5 W&B file(s), 0 media file(s), 0 artifact file(s) and 0 other file(s)"
      ],
      "text/plain": [
       "<IPython.core.display.HTML object>"
      ]
     },
     "metadata": {},
     "output_type": "display_data"
    },
    {
     "data": {
      "text/html": [
       "Find logs at: <code>.\\wandb\\run-20230904_191722-7kgq1l70\\logs</code>"
      ],
      "text/plain": [
       "<IPython.core.display.HTML object>"
      ]
     },
     "metadata": {},
     "output_type": "display_data"
    }
   ],
   "source": [
    "wandb.finish()"
   ]
  },
  {
   "cell_type": "code",
   "execution_count": 29,
   "metadata": {},
   "outputs": [],
   "source": [
    "torch.save(generator.state_dict(), \"./models/generator1.mod\")\n",
    "torch.save(discriminator.state_dict(), \"./models/discriminator1.mod\")"
   ]
  },
  {
   "cell_type": "code",
   "execution_count": 15,
   "metadata": {},
   "outputs": [],
   "source": [
    "def generate_seq(generator):\n",
    "    noise = Variable(torch.randn((1,1000))).cuda()\n",
    "    OheSeq = generator(noise).detach().cpu().numpy()\n",
    "    return np.argmax(OheSeq,0)"
   ]
  },
  {
   "cell_type": "code",
   "execution_count": 211,
   "metadata": {},
   "outputs": [],
   "source": [
    "dna_vocab_revers = {0: \"A\",\n",
    "             1:\"C\",\n",
    "             2:\"G\",\n",
    "             3:\"T\",\n",
    "             4:\"N\"}\n",
    "def Gseq2file(seq):\n",
    "    wr = []\n",
    "    for i in seq:\n",
    "        wr.extend(dna_vocab_revers[i])\n",
    "    with open(\"./check.txt\", 'w+') as f:\n",
    "        f.write(wr)"
   ]
  },
  {
   "cell_type": "code",
   "execution_count": 221,
   "metadata": {},
   "outputs": [
    {
     "name": "stderr",
     "output_type": "stream",
     "text": [
      "C:\\Temp\\ipykernel_6340\\752960707.py:58: UserWarning: Implicit dimension choice for softmax has been deprecated. Change the call to include dim=X as an argument.\n",
      "  output = self.softmax(output)\n"
     ]
    }
   ],
   "source": [
    "wr = []\n",
    "seq = generate_seq(generator)\n",
    "for i in seq:\n",
    "        wr.extend(dna_vocab_revers[i])\n",
    "with open(\"./check.txt\", 'w+') as f:\n",
    "        f.write(''.join(wr))"
   ]
  },
  {
   "cell_type": "markdown",
   "metadata": {},
   "source": [
    "# Metrics"
   ]
  },
  {
   "cell_type": "markdown",
   "metadata": {},
   "source": [
    "In each sequence, the model recapitulated\n",
    "not only the properties related to basic sequence composition, such as\n",
    "\n",
    "\n",
    "GC content (Fig. 2c: average GC content within 1.1% of values in natural\n",
    "sequences) and \n",
    "\n",
    "UTR sizes (Fig. 2d, e: average length of generated UTRs\n",
    "within 8 bp of natural ones) but also the known \n",
    "\n",
    "DNA regulatory grammar (see Fig. 1a). \n",
    "\n",
    "This included (i) canonical motifs of transcription factor binding sites (TFBS) from the Jaspar database48, \n",
    "\n",
    "identified (qvalue < 0.05) using FIMO49, and \n",
    "\n",
    "core promoter elements comprising the TATA box50,51 in promoters (ii) Kozak sequences in 5′ UTRs52,53, (iii) termination related motifs, including positioning, efficiency, and poly-AT\n",
    "motifs6,54 in 3′ UTRs and terminators, (iv) previous deep learninguncovered expression-related motifs and motif associations7, as well as\n",
    "(v) positions predicted to be depleted of nucleosome"
   ]
  },
  {
   "cell_type": "markdown",
   "metadata": {},
   "source": [
    "## GC content"
   ]
  },
  {
   "cell_type": "code",
   "execution_count": 18,
   "metadata": {},
   "outputs": [],
   "source": [
    "def GC_Content(ohe_seq):\n",
    "    return (sum(ohe_seq == dna_vocab[\"G\"]) + sum(ohe_seq == dna_vocab[\"C\"]))/len(ohe_seq)"
   ]
  },
  {
   "cell_type": "code",
   "execution_count": 55,
   "metadata": {},
   "outputs": [],
   "source": [
    "dataloader = DataLoader(GenData,1,drop_last=True, shuffle = True)"
   ]
  },
  {
   "cell_type": "code",
   "execution_count": 208,
   "metadata": {},
   "outputs": [
    {
     "data": {
      "application/vnd.jupyter.widget-view+json": {
       "model_id": "33b58d86ebff47a8b456aa8ff2a1b605",
       "version_major": 2,
       "version_minor": 0
      },
      "text/plain": [
       "0it [00:00, ?it/s]"
      ]
     },
     "metadata": {},
     "output_type": "display_data"
    },
    {
     "name": "stderr",
     "output_type": "stream",
     "text": [
      "C:\\Temp\\ipykernel_6340\\752960707.py:58: UserWarning: Implicit dimension choice for softmax has been deprecated. Change the call to include dim=X as an argument.\n",
      "  output = self.softmax(output)\n"
     ]
    },
    {
     "name": "stdout",
     "output_type": "stream",
     "text": [
      "0.3855094905094905\n",
      "0.3542147852147852\n"
     ]
    }
   ],
   "source": [
    "real = []\n",
    "gen = []\n",
    "for num,batch in tqdm(enumerate(dataloader)):\n",
    "    real.append(GC_Content(np.array(reverse_ohe_DNA(batch[0].tolist()))))\n",
    "    gen.append(GC_Content(generate_seq(generator)))\n",
    "    if num >= 1000:\n",
    "        break\n",
    "print(np.mean(real))\n",
    "print(np.mean(gen))"
   ]
  },
  {
   "cell_type": "markdown",
   "metadata": {},
   "source": [
    "## Kozak seq\n"
   ]
  },
  {
   "cell_type": "code",
   "execution_count": 84,
   "metadata": {},
   "outputs": [],
   "source": [
    "swap_dna_vocab =   {0:0,\n",
    "                    1:3,\n",
    "                    2:2,\n",
    "                    3:1,\n",
    "                    4:4}\n",
    "\n",
    "def ohe_swap(seq):\n",
    "    swaped = []\n",
    "    for i in seq:\n",
    "        swaped.append(swap_dna_vocab[i])\n",
    "    return swaped"
   ]
  },
  {
   "cell_type": "code",
   "execution_count": 85,
   "metadata": {},
   "outputs": [],
   "source": [
    "#Kozak Consensus Scoring System\n",
    "\n",
    "#0=A, 1=T, 2=G, 3=C, 4=N (Missing)\n",
    "weights = np.array([\n",
    "       [0.04210526, 0.        , 0.03157895, 0.05263158, 0.        ],\n",
    "       [0.04210526, 0.05263158, 0.10526316, 0.0625    , 0.        ],\n",
    "       [0.03157895, 0.04210526, 0.05263158, 0.07368421, 0.        ],\n",
    "       [0.03157895, 0.01052632, 0.04210526, 0.05263158, 0.        ],\n",
    "       [0.08421053, 0.07368421, 0.18947368, 0.10526316, 0.        ],\n",
    "       [0.04210526, 0.05263158, 0.05263158, 0.08421053, 0.        ],\n",
    "       [0.12631579, 0.0625    , 0.12631579, 0.21052632, 0.        ],\n",
    "       [0.83157895, 0.12631579, 0.65263158, 0.16842105, 0.        ],\n",
    "       [0.15789474, 0.06315789, 0.11578947, 0.2       , 0.        ],\n",
    "       [0.21052632, 0.09473684, 0.31578947, 0.51578947, 0.        ],\n",
    "       [0.        , 0.        , 0.        , 0.        , 0.        ],\n",
    "       [0.        , 0.        , 0.        , 0.        , 0.        ],\n",
    "       [0.        , 0.        , 0.        , 0.        , 0.        ],\n",
    "       [0.24210526, 0.16666667, 0.53684211, 0.13684211, 0.        ],\n",
    "       [0.15789474, 0.09473684, 0.09473684, 0.24210526, 0.        ],\n",
    "       [0.05263158, 0.08421053, 0.14736842, 0.09473684, 0.        ],\n",
    "       [0.07216495, 0.05263158, 0.10526316, 0.06315789, 0.        ],\n",
    "       [0.        , 0.        , 0.        , 0.05263158, 0.        ],\n",
    "       [0.05263158, 0.05263158, 0.10526316, 0.09473684, 0.        ],\n",
    "       [0.04210526, 0.03157895, 0.05263158, 0.04210526, 0.        ],\n",
    "       [0.        , 0.        , 0.        , 0.        , 0.        ],\n",
    "       [0.04210526, 0.04210526, 0.08421053, 0.07368421, 0.        ],\n",
    "       [0.0625    , 0.04210526, 0.09473684, 0.05263158, 0.        ]\n",
    "])\n",
    "\n",
    "#Below function scores using consensus kozak motif scores\n",
    "def similarity_score(sequence):\n",
    "                \n",
    "    #We need consistency and flexibility:\n",
    "        \n",
    "    numbers = ohe_swap(sequence)\n",
    "                \n",
    "    \n",
    "    score = 0\n",
    "    for k in np.arange(len(numbers)):\n",
    "        score += weights[k][numbers[k]]\n",
    "            \n",
    "    max_score = np.sum(weights.max(axis=1))\n",
    "    \n",
    "    score = score/max_score\n",
    "    \n",
    "    #Final scoring value: we take the maximum possible score \n",
    "    #calculated, and return our score divided by the maximum (to normalize from range 0 to 1) \n",
    "    \n",
    "    return(score)"
   ]
  },
  {
   "cell_type": "code",
   "execution_count": 225,
   "metadata": {},
   "outputs": [
    {
     "name": "stderr",
     "output_type": "stream",
     "text": [
      "C:\\Temp\\ipykernel_6340\\752960707.py:58: UserWarning: Implicit dimension choice for softmax has been deprecated. Change the call to include dim=X as an argument.\n",
      "  output = self.softmax(output)\n"
     ]
    },
    {
     "data": {
      "text/plain": [
       "(array([ 8793.,     0.,     0.,  1723., 17101., 22599., 26331., 17523.,\n",
       "         5062.,   522.]),\n",
       " array([0.        , 0.09211268, 0.18422535, 0.27633803, 0.3684507 ,\n",
       "        0.46056338, 0.55267606, 0.64478873, 0.73690141, 0.82901409,\n",
       "        0.92112676]),\n",
       " <BarContainer object of 10 artists>)"
      ]
     },
     "execution_count": 225,
     "metadata": {},
     "output_type": "execute_result"
    },
    {
     "data": {
      "image/png": "[encoded data removed]",
      "text/plain": [
       "<Figure size 1000x700 with 2 Axes>"
      ]
     },
     "metadata": {},
     "output_type": "display_data"
    }
   ],
   "source": [
    "G_s = []\n",
    "R_s = []\n",
    "for num,batch in enumerate(dataloader):\n",
    "    G_seq = generate_seq(generator)\n",
    "    R_seq = np.array(reverse_ohe_DNA(batch[0].tolist()))\n",
    "    for i in range(1000-23):\n",
    "        G_s.append(similarity_score(G_seq[i:i+23]))\n",
    "        R_s.append(similarity_score(R_seq[i:i+23]))\n",
    "    if num > 100:\n",
    "        break\n",
    "\n",
    "fig = plt.figure(figsize=(10, 7))\n",
    "columns = 2\n",
    "rows = 1\n",
    "# Adds a subplot at the 1st position\n",
    "fig.add_subplot(rows, columns, 1)\n",
    "plt.hist(G_s)\n",
    "\n",
    "fig.add_subplot(rows, columns, 2)\n",
    "plt.hist(R_s)\n"
   ]
  },
  {
   "cell_type": "code",
   "execution_count": 227,
   "metadata": {},
   "outputs": [
    {
     "data": {
      "text/plain": [
       "KstestResult(statistic=0.08478335039235756, pvalue=4.77338769689e-312, statistic_location=0.0, statistic_sign=-1)"
      ]
     },
     "execution_count": 227,
     "metadata": {},
     "output_type": "execute_result"
    }
   ],
   "source": [
    "from scipy import stats\n",
    "stats.kstest(G_s,R_s)"
   ]
  }
 ],
 "metadata": {
  "kernelspec": {
   "display_name": "GAN",
   "language": "python",
   "name": "python3"
  },
  "language_info": {
   "codemirror_mode": {
    "name": "ipython",
    "version": 3
   },
   "file_extension": ".py",
   "mimetype": "text/x-python",
   "name": "python",
   "nbconvert_exporter": "python",
   "pygments_lexer": "ipython3",
   "version": "3.11.4"
  },
  "orig_nbformat": 4
 },
 "nbformat": 4,
 "nbformat_minor": 2
}
